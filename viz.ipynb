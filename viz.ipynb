{
 "cells": [
  {
   "cell_type": "code",
   "execution_count": 1,
   "metadata": {},
   "outputs": [],
   "source": [
    "from functools import reduce\n",
    "import plotly.graph_objects as go\n",
    "\n",
    "def plot_cube_n(facelets=None):\n",
    "\n",
    "    facelets_len = len(facelets)\n",
    "    n = 1\n",
    "    while n**2*6 < facelets_len:\n",
    "        n += 1\n",
    "\n",
    "    fs = n**2\n",
    "    vs = (n+1)**2\n",
    "\n",
    "    if facelets is None:\n",
    "        facelets = [*[\"A\"]*fs, *[\"B\"]*fs, *[\"C\"]*fs, *[\"D\"]*fs, *[\"E\"]*fs, *[\"F\"]*fs]\n",
    "\n",
    "    vertices = []\n",
    "    vertices.extend([(x, y, 0) for y in range(n, -1, -1) for x in range(n+1)])  # dn down\n",
    "    vertices.extend([(x, 0, z) for z in range(n+1) for x in range(n+1)])        # f0 front\n",
    "    vertices.extend([(n, y, z) for z in range(n+1) for y in range(n+1)])        # r0 right\n",
    "    vertices.extend([(x, n, z) for z in range(n+1) for x in range(n, -1, -1)])        # fn back\n",
    "    vertices.extend([(0, y, z) for z in range(n+1) for y in range(n, -1, -1)])  # r0 left\n",
    "    # vertices.extend([(x, y, n) for y in range(n, -1, -1) for x in range(n+1)])  # d0 up\n",
    "    vertices.extend([(x, y, n) for y in range(n+1) for x in range(n+1)])  # d0 up\n",
    "\n",
    "    colors = {\n",
    "        \"A\": \"white\",\n",
    "        \"B\": \"#3588cc\",\n",
    "        \"C\": \"red\",\n",
    "        \"D\": \"green\",\n",
    "        \"E\": \"orange\",\n",
    "        \"F\": \"yellow\",\n",
    "    }\n",
    "\n",
    "    facelet_colors = [colors[facelet] for facelet in facelets]\n",
    "    facecolor = []\n",
    "    for f_color in facelet_colors:\n",
    "        facecolor.extend([f_color, f_color])\n",
    "\n",
    "\n",
    "    ivs = []\n",
    "    for i in range(vs):\n",
    "        if (i+1) % (n+1) != 0 and i+1 < n*(n+1): ivs.extend([i, i])\n",
    "\n",
    "    jvs = []\n",
    "    for i, j in zip([i for i in range(vs) if i % (n+1) != 0 and i < n*(n+1)], [j for j in range(vs) if (j+1) % (n+1) != 0 and j+1 > n+1]):\n",
    "        jvs.extend([i, j])\n",
    "\n",
    "    kvs = []\n",
    "    for i in range(vs):\n",
    "        if (i) % (n+1) != 0 and i+1 > n+1: kvs.extend([i, i])\n",
    "\n",
    "    fig = go.Figure(data=[\n",
    "        go.Mesh3d(\n",
    "            x=[v[0] for v in vertices][0:vs*6],\n",
    "            y=[v[1] for v in vertices][0:vs*6],\n",
    "            z=[v[2] for v in vertices][0:vs*6],\n",
    "            i=reduce(lambda x, y: x.extend(y) or x, [[v+vs*i for v in ivs]for i in range(6)], []),\n",
    "            j=reduce(lambda x, y: x.extend(y) or x, [[v+vs*i for v in jvs]for i in range(6)], []),\n",
    "            k=reduce(lambda x, y: x.extend(y) or x, [[v+vs*i for v in kvs]for i in range(6)], []),\n",
    "            facecolor=facecolor,\n",
    "            opacity=1,\n",
    "            hoverinfo='none'\n",
    "        )\n",
    "    ])\n",
    "\n",
    "    lines_seq = [[0, n, n, 0, 0], [0, 0, n, n, 0]]\n",
    "\n",
    "    for i in range(n+1):\n",
    "        fig.add_trace(go.Scatter3d(\n",
    "            x=lines_seq[0],\n",
    "            y=lines_seq[1],\n",
    "            z=[i]*5,\n",
    "            mode=\"lines\",\n",
    "            line=dict(width=5, color=\"black\"),\n",
    "            hoverinfo=\"none\"\n",
    "        ))\n",
    "\n",
    "        fig.add_trace(go.Scatter3d(\n",
    "            x=lines_seq[1],\n",
    "            y=[i]*5,\n",
    "            z=lines_seq[0],\n",
    "            mode=\"lines\",\n",
    "            line=dict(width=5, color=\"black\"),\n",
    "            hoverinfo=\"none\"\n",
    "        ))\n",
    "\n",
    "        fig.add_trace(go.Scatter3d(\n",
    "            x=[i]*5,\n",
    "            y=lines_seq[1],\n",
    "            z=lines_seq[0],\n",
    "            mode=\"lines\",\n",
    "            line=dict(width=5, color=\"black\"),\n",
    "            hoverinfo=\"none\"\n",
    "        ))\n",
    "\n",
    "    fig.add_trace(go.Scatter3d(\n",
    "        x=[n/2, n/2, n+1.5+n*0.5], \n",
    "        y=[n/2, -1.5-n*0.5, n/2], \n",
    "        z=[n+1+n*0.5, n/2, n/2], \n",
    "        mode=\"text\", \n",
    "        text=[\"UP\", \"FRONT\", \"RIGHT\"], \n",
    "        textposition=\"middle center\", \n",
    "        textfont=dict(\n",
    "            size=15+n*2,\n",
    "        )\n",
    "    ))\n",
    "\n",
    "    fig.update_layout(\n",
    "        showlegend=False,\n",
    "        autosize=False,\n",
    "        width=900,\n",
    "        height=800,\n",
    "        scene=dict(\n",
    "            xaxis=dict(showgrid=False, zeroline=False, showticklabels=False, showbackground=False, title_text=\"\", showspikes=False),\n",
    "            yaxis=dict(showgrid=False, zeroline=False, showticklabels=False, showbackground=False, title_text=\"\", showspikes=False),\n",
    "            zaxis=dict(showgrid=False, zeroline=False, showticklabels=False, showbackground=False, title_text=\"\", showspikes=False),\n",
    "            camera=dict(\n",
    "                eye=dict(x=0.8, y=-1.2, z=0.8)\n",
    "            )\n",
    "        )\n",
    "    )\n",
    "\n",
    "    fig.show()"
   ]
  },
  {
   "cell_type": "code",
   "execution_count": 2,
   "metadata": {},
   "outputs": [
    {
     "data": {
      "application/vnd.plotly.v1+json": {
       "config": {
        "plotlyServerURL": "https://plot.ly"
       },
       "data": [
        {
         "facecolor": [
          "orange",
          "orange",
          "yellow",
          "yellow",
          "yellow",
          "yellow",
          "green",
          "green",
          "orange",
          "orange",
          "#3588cc",
          "#3588cc",
          "white",
          "white",
          "green",
          "green",
          "orange",
          "orange",
          "#3588cc",
          "#3588cc",
          "white",
          "white",
          "orange",
          "orange",
          "yellow",
          "yellow",
          "red",
          "red",
          "red",
          "red",
          "green",
          "green",
          "yellow",
          "yellow",
          "red",
          "red",
          "red",
          "red",
          "#3588cc",
          "#3588cc",
          "green",
          "green",
          "red",
          "red",
          "#3588cc",
          "#3588cc",
          "white",
          "white",
          "orange",
          "orange",
          "red",
          "red",
          "#3588cc",
          "#3588cc",
          "white",
          "white",
          "red",
          "red",
          "white",
          "white",
          "white",
          "white",
          "yellow",
          "yellow",
          "green",
          "green",
          "yellow",
          "yellow",
          "white",
          "white",
          "green",
          "green",
          "green",
          "green",
          "green",
          "green",
          "red",
          "red",
          "white",
          "white",
          "red",
          "red",
          "green",
          "green",
          "red",
          "red",
          "yellow",
          "yellow",
          "white",
          "white",
          "#3588cc",
          "#3588cc",
          "white",
          "white",
          "#3588cc",
          "#3588cc",
          "white",
          "white",
          "#3588cc",
          "#3588cc",
          "#3588cc",
          "#3588cc",
          "white",
          "white",
          "red",
          "red",
          "orange",
          "orange",
          "green",
          "green",
          "orange",
          "orange",
          "#3588cc",
          "#3588cc",
          "orange",
          "orange",
          "green",
          "green",
          "yellow",
          "yellow",
          "red",
          "red",
          "red",
          "red",
          "green",
          "green",
          "yellow",
          "yellow",
          "orange",
          "orange",
          "orange",
          "orange",
          "orange",
          "orange",
          "#3588cc",
          "#3588cc",
          "yellow",
          "yellow",
          "yellow",
          "yellow",
          "orange",
          "orange",
          "#3588cc",
          "#3588cc",
          "yellow",
          "yellow",
          "yellow",
          "yellow",
          "orange",
          "orange",
          "white",
          "white",
          "orange",
          "orange",
          "green",
          "green",
          "green",
          "green",
          "red",
          "red",
          "white",
          "white",
          "yellow",
          "yellow",
          "orange",
          "orange",
          "#3588cc",
          "#3588cc",
          "green",
          "green",
          "white",
          "white",
          "yellow",
          "yellow",
          "red",
          "red",
          "green",
          "green",
          "white",
          "white",
          "yellow",
          "yellow",
          "#3588cc",
          "#3588cc",
          "orange",
          "orange",
          "#3588cc",
          "#3588cc",
          "#3588cc",
          "#3588cc",
          "red",
          "red"
         ],
         "hoverinfo": "none",
         "i": [
          0,
          0,
          1,
          1,
          2,
          2,
          3,
          3,
          5,
          5,
          6,
          6,
          7,
          7,
          8,
          8,
          10,
          10,
          11,
          11,
          12,
          12,
          13,
          13,
          15,
          15,
          16,
          16,
          17,
          17,
          18,
          18,
          25,
          25,
          26,
          26,
          27,
          27,
          28,
          28,
          30,
          30,
          31,
          31,
          32,
          32,
          33,
          33,
          35,
          35,
          36,
          36,
          37,
          37,
          38,
          38,
          40,
          40,
          41,
          41,
          42,
          42,
          43,
          43,
          50,
          50,
          51,
          51,
          52,
          52,
          53,
          53,
          55,
          55,
          56,
          56,
          57,
          57,
          58,
          58,
          60,
          60,
          61,
          61,
          62,
          62,
          63,
          63,
          65,
          65,
          66,
          66,
          67,
          67,
          68,
          68,
          75,
          75,
          76,
          76,
          77,
          77,
          78,
          78,
          80,
          80,
          81,
          81,
          82,
          82,
          83,
          83,
          85,
          85,
          86,
          86,
          87,
          87,
          88,
          88,
          90,
          90,
          91,
          91,
          92,
          92,
          93,
          93,
          100,
          100,
          101,
          101,
          102,
          102,
          103,
          103,
          105,
          105,
          106,
          106,
          107,
          107,
          108,
          108,
          110,
          110,
          111,
          111,
          112,
          112,
          113,
          113,
          115,
          115,
          116,
          116,
          117,
          117,
          118,
          118,
          125,
          125,
          126,
          126,
          127,
          127,
          128,
          128,
          130,
          130,
          131,
          131,
          132,
          132,
          133,
          133,
          135,
          135,
          136,
          136,
          137,
          137,
          138,
          138,
          140,
          140,
          141,
          141,
          142,
          142,
          143,
          143
         ],
         "j": [
          1,
          5,
          2,
          6,
          3,
          7,
          4,
          8,
          6,
          10,
          7,
          11,
          8,
          12,
          9,
          13,
          11,
          15,
          12,
          16,
          13,
          17,
          14,
          18,
          16,
          20,
          17,
          21,
          18,
          22,
          19,
          23,
          26,
          30,
          27,
          31,
          28,
          32,
          29,
          33,
          31,
          35,
          32,
          36,
          33,
          37,
          34,
          38,
          36,
          40,
          37,
          41,
          38,
          42,
          39,
          43,
          41,
          45,
          42,
          46,
          43,
          47,
          44,
          48,
          51,
          55,
          52,
          56,
          53,
          57,
          54,
          58,
          56,
          60,
          57,
          61,
          58,
          62,
          59,
          63,
          61,
          65,
          62,
          66,
          63,
          67,
          64,
          68,
          66,
          70,
          67,
          71,
          68,
          72,
          69,
          73,
          76,
          80,
          77,
          81,
          78,
          82,
          79,
          83,
          81,
          85,
          82,
          86,
          83,
          87,
          84,
          88,
          86,
          90,
          87,
          91,
          88,
          92,
          89,
          93,
          91,
          95,
          92,
          96,
          93,
          97,
          94,
          98,
          101,
          105,
          102,
          106,
          103,
          107,
          104,
          108,
          106,
          110,
          107,
          111,
          108,
          112,
          109,
          113,
          111,
          115,
          112,
          116,
          113,
          117,
          114,
          118,
          116,
          120,
          117,
          121,
          118,
          122,
          119,
          123,
          126,
          130,
          127,
          131,
          128,
          132,
          129,
          133,
          131,
          135,
          132,
          136,
          133,
          137,
          134,
          138,
          136,
          140,
          137,
          141,
          138,
          142,
          139,
          143,
          141,
          145,
          142,
          146,
          143,
          147,
          144,
          148
         ],
         "k": [
          6,
          6,
          7,
          7,
          8,
          8,
          9,
          9,
          11,
          11,
          12,
          12,
          13,
          13,
          14,
          14,
          16,
          16,
          17,
          17,
          18,
          18,
          19,
          19,
          21,
          21,
          22,
          22,
          23,
          23,
          24,
          24,
          31,
          31,
          32,
          32,
          33,
          33,
          34,
          34,
          36,
          36,
          37,
          37,
          38,
          38,
          39,
          39,
          41,
          41,
          42,
          42,
          43,
          43,
          44,
          44,
          46,
          46,
          47,
          47,
          48,
          48,
          49,
          49,
          56,
          56,
          57,
          57,
          58,
          58,
          59,
          59,
          61,
          61,
          62,
          62,
          63,
          63,
          64,
          64,
          66,
          66,
          67,
          67,
          68,
          68,
          69,
          69,
          71,
          71,
          72,
          72,
          73,
          73,
          74,
          74,
          81,
          81,
          82,
          82,
          83,
          83,
          84,
          84,
          86,
          86,
          87,
          87,
          88,
          88,
          89,
          89,
          91,
          91,
          92,
          92,
          93,
          93,
          94,
          94,
          96,
          96,
          97,
          97,
          98,
          98,
          99,
          99,
          106,
          106,
          107,
          107,
          108,
          108,
          109,
          109,
          111,
          111,
          112,
          112,
          113,
          113,
          114,
          114,
          116,
          116,
          117,
          117,
          118,
          118,
          119,
          119,
          121,
          121,
          122,
          122,
          123,
          123,
          124,
          124,
          131,
          131,
          132,
          132,
          133,
          133,
          134,
          134,
          136,
          136,
          137,
          137,
          138,
          138,
          139,
          139,
          141,
          141,
          142,
          142,
          143,
          143,
          144,
          144,
          146,
          146,
          147,
          147,
          148,
          148,
          149,
          149
         ],
         "opacity": 1,
         "type": "mesh3d",
         "x": [
          0,
          1,
          2,
          3,
          4,
          0,
          1,
          2,
          3,
          4,
          0,
          1,
          2,
          3,
          4,
          0,
          1,
          2,
          3,
          4,
          0,
          1,
          2,
          3,
          4,
          0,
          1,
          2,
          3,
          4,
          0,
          1,
          2,
          3,
          4,
          0,
          1,
          2,
          3,
          4,
          0,
          1,
          2,
          3,
          4,
          0,
          1,
          2,
          3,
          4,
          4,
          4,
          4,
          4,
          4,
          4,
          4,
          4,
          4,
          4,
          4,
          4,
          4,
          4,
          4,
          4,
          4,
          4,
          4,
          4,
          4,
          4,
          4,
          4,
          4,
          4,
          3,
          2,
          1,
          0,
          4,
          3,
          2,
          1,
          0,
          4,
          3,
          2,
          1,
          0,
          4,
          3,
          2,
          1,
          0,
          4,
          3,
          2,
          1,
          0,
          0,
          0,
          0,
          0,
          0,
          0,
          0,
          0,
          0,
          0,
          0,
          0,
          0,
          0,
          0,
          0,
          0,
          0,
          0,
          0,
          0,
          0,
          0,
          0,
          0,
          0,
          1,
          2,
          3,
          4,
          0,
          1,
          2,
          3,
          4,
          0,
          1,
          2,
          3,
          4,
          0,
          1,
          2,
          3,
          4,
          0,
          1,
          2,
          3,
          4
         ],
         "y": [
          4,
          4,
          4,
          4,
          4,
          3,
          3,
          3,
          3,
          3,
          2,
          2,
          2,
          2,
          2,
          1,
          1,
          1,
          1,
          1,
          0,
          0,
          0,
          0,
          0,
          0,
          0,
          0,
          0,
          0,
          0,
          0,
          0,
          0,
          0,
          0,
          0,
          0,
          0,
          0,
          0,
          0,
          0,
          0,
          0,
          0,
          0,
          0,
          0,
          0,
          0,
          1,
          2,
          3,
          4,
          0,
          1,
          2,
          3,
          4,
          0,
          1,
          2,
          3,
          4,
          0,
          1,
          2,
          3,
          4,
          0,
          1,
          2,
          3,
          4,
          4,
          4,
          4,
          4,
          4,
          4,
          4,
          4,
          4,
          4,
          4,
          4,
          4,
          4,
          4,
          4,
          4,
          4,
          4,
          4,
          4,
          4,
          4,
          4,
          4,
          4,
          3,
          2,
          1,
          0,
          4,
          3,
          2,
          1,
          0,
          4,
          3,
          2,
          1,
          0,
          4,
          3,
          2,
          1,
          0,
          4,
          3,
          2,
          1,
          0,
          0,
          0,
          0,
          0,
          0,
          1,
          1,
          1,
          1,
          1,
          2,
          2,
          2,
          2,
          2,
          3,
          3,
          3,
          3,
          3,
          4,
          4,
          4,
          4,
          4
         ],
         "z": [
          0,
          0,
          0,
          0,
          0,
          0,
          0,
          0,
          0,
          0,
          0,
          0,
          0,
          0,
          0,
          0,
          0,
          0,
          0,
          0,
          0,
          0,
          0,
          0,
          0,
          0,
          0,
          0,
          0,
          0,
          1,
          1,
          1,
          1,
          1,
          2,
          2,
          2,
          2,
          2,
          3,
          3,
          3,
          3,
          3,
          4,
          4,
          4,
          4,
          4,
          0,
          0,
          0,
          0,
          0,
          1,
          1,
          1,
          1,
          1,
          2,
          2,
          2,
          2,
          2,
          3,
          3,
          3,
          3,
          3,
          4,
          4,
          4,
          4,
          4,
          0,
          0,
          0,
          0,
          0,
          1,
          1,
          1,
          1,
          1,
          2,
          2,
          2,
          2,
          2,
          3,
          3,
          3,
          3,
          3,
          4,
          4,
          4,
          4,
          4,
          0,
          0,
          0,
          0,
          0,
          1,
          1,
          1,
          1,
          1,
          2,
          2,
          2,
          2,
          2,
          3,
          3,
          3,
          3,
          3,
          4,
          4,
          4,
          4,
          4,
          4,
          4,
          4,
          4,
          4,
          4,
          4,
          4,
          4,
          4,
          4,
          4,
          4,
          4,
          4,
          4,
          4,
          4,
          4,
          4,
          4,
          4,
          4,
          4,
          4
         ]
        },
        {
         "hoverinfo": "none",
         "line": {
          "color": "black",
          "width": 5
         },
         "mode": "lines",
         "type": "scatter3d",
         "x": [
          0,
          4,
          4,
          0,
          0
         ],
         "y": [
          0,
          0,
          4,
          4,
          0
         ],
         "z": [
          0,
          0,
          0,
          0,
          0
         ]
        },
        {
         "hoverinfo": "none",
         "line": {
          "color": "black",
          "width": 5
         },
         "mode": "lines",
         "type": "scatter3d",
         "x": [
          0,
          0,
          4,
          4,
          0
         ],
         "y": [
          0,
          0,
          0,
          0,
          0
         ],
         "z": [
          0,
          4,
          4,
          0,
          0
         ]
        },
        {
         "hoverinfo": "none",
         "line": {
          "color": "black",
          "width": 5
         },
         "mode": "lines",
         "type": "scatter3d",
         "x": [
          0,
          0,
          0,
          0,
          0
         ],
         "y": [
          0,
          0,
          4,
          4,
          0
         ],
         "z": [
          0,
          4,
          4,
          0,
          0
         ]
        },
        {
         "hoverinfo": "none",
         "line": {
          "color": "black",
          "width": 5
         },
         "mode": "lines",
         "type": "scatter3d",
         "x": [
          0,
          4,
          4,
          0,
          0
         ],
         "y": [
          0,
          0,
          4,
          4,
          0
         ],
         "z": [
          1,
          1,
          1,
          1,
          1
         ]
        },
        {
         "hoverinfo": "none",
         "line": {
          "color": "black",
          "width": 5
         },
         "mode": "lines",
         "type": "scatter3d",
         "x": [
          0,
          0,
          4,
          4,
          0
         ],
         "y": [
          1,
          1,
          1,
          1,
          1
         ],
         "z": [
          0,
          4,
          4,
          0,
          0
         ]
        },
        {
         "hoverinfo": "none",
         "line": {
          "color": "black",
          "width": 5
         },
         "mode": "lines",
         "type": "scatter3d",
         "x": [
          1,
          1,
          1,
          1,
          1
         ],
         "y": [
          0,
          0,
          4,
          4,
          0
         ],
         "z": [
          0,
          4,
          4,
          0,
          0
         ]
        },
        {
         "hoverinfo": "none",
         "line": {
          "color": "black",
          "width": 5
         },
         "mode": "lines",
         "type": "scatter3d",
         "x": [
          0,
          4,
          4,
          0,
          0
         ],
         "y": [
          0,
          0,
          4,
          4,
          0
         ],
         "z": [
          2,
          2,
          2,
          2,
          2
         ]
        },
        {
         "hoverinfo": "none",
         "line": {
          "color": "black",
          "width": 5
         },
         "mode": "lines",
         "type": "scatter3d",
         "x": [
          0,
          0,
          4,
          4,
          0
         ],
         "y": [
          2,
          2,
          2,
          2,
          2
         ],
         "z": [
          0,
          4,
          4,
          0,
          0
         ]
        },
        {
         "hoverinfo": "none",
         "line": {
          "color": "black",
          "width": 5
         },
         "mode": "lines",
         "type": "scatter3d",
         "x": [
          2,
          2,
          2,
          2,
          2
         ],
         "y": [
          0,
          0,
          4,
          4,
          0
         ],
         "z": [
          0,
          4,
          4,
          0,
          0
         ]
        },
        {
         "hoverinfo": "none",
         "line": {
          "color": "black",
          "width": 5
         },
         "mode": "lines",
         "type": "scatter3d",
         "x": [
          0,
          4,
          4,
          0,
          0
         ],
         "y": [
          0,
          0,
          4,
          4,
          0
         ],
         "z": [
          3,
          3,
          3,
          3,
          3
         ]
        },
        {
         "hoverinfo": "none",
         "line": {
          "color": "black",
          "width": 5
         },
         "mode": "lines",
         "type": "scatter3d",
         "x": [
          0,
          0,
          4,
          4,
          0
         ],
         "y": [
          3,
          3,
          3,
          3,
          3
         ],
         "z": [
          0,
          4,
          4,
          0,
          0
         ]
        },
        {
         "hoverinfo": "none",
         "line": {
          "color": "black",
          "width": 5
         },
         "mode": "lines",
         "type": "scatter3d",
         "x": [
          3,
          3,
          3,
          3,
          3
         ],
         "y": [
          0,
          0,
          4,
          4,
          0
         ],
         "z": [
          0,
          4,
          4,
          0,
          0
         ]
        },
        {
         "hoverinfo": "none",
         "line": {
          "color": "black",
          "width": 5
         },
         "mode": "lines",
         "type": "scatter3d",
         "x": [
          0,
          4,
          4,
          0,
          0
         ],
         "y": [
          0,
          0,
          4,
          4,
          0
         ],
         "z": [
          4,
          4,
          4,
          4,
          4
         ]
        },
        {
         "hoverinfo": "none",
         "line": {
          "color": "black",
          "width": 5
         },
         "mode": "lines",
         "type": "scatter3d",
         "x": [
          0,
          0,
          4,
          4,
          0
         ],
         "y": [
          4,
          4,
          4,
          4,
          4
         ],
         "z": [
          0,
          4,
          4,
          0,
          0
         ]
        },
        {
         "hoverinfo": "none",
         "line": {
          "color": "black",
          "width": 5
         },
         "mode": "lines",
         "type": "scatter3d",
         "x": [
          4,
          4,
          4,
          4,
          4
         ],
         "y": [
          0,
          0,
          4,
          4,
          0
         ],
         "z": [
          0,
          4,
          4,
          0,
          0
         ]
        },
        {
         "mode": "text",
         "text": [
          "UP",
          "FRONT",
          "RIGHT"
         ],
         "textfont": {
          "size": 23
         },
         "textposition": "middle center",
         "type": "scatter3d",
         "x": [
          2,
          2,
          7.5
         ],
         "y": [
          2,
          -3.5,
          2
         ],
         "z": [
          7,
          2,
          2
         ]
        }
       ],
       "layout": {
        "autosize": false,
        "height": 800,
        "scene": {
         "camera": {
          "eye": {
           "x": 0.8,
           "y": -1.2,
           "z": 0.8
          }
         },
         "xaxis": {
          "showbackground": false,
          "showgrid": false,
          "showspikes": false,
          "showticklabels": false,
          "title": {
           "text": ""
          },
          "zeroline": false
         },
         "yaxis": {
          "showbackground": false,
          "showgrid": false,
          "showspikes": false,
          "showticklabels": false,
          "title": {
           "text": ""
          },
          "zeroline": false
         },
         "zaxis": {
          "showbackground": false,
          "showgrid": false,
          "showspikes": false,
          "showticklabels": false,
          "title": {
           "text": ""
          },
          "zeroline": false
         }
        },
        "showlegend": false,
        "template": {
         "data": {
          "bar": [
           {
            "error_x": {
             "color": "#2a3f5f"
            },
            "error_y": {
             "color": "#2a3f5f"
            },
            "marker": {
             "line": {
              "color": "#E5ECF6",
              "width": 0.5
             },
             "pattern": {
              "fillmode": "overlay",
              "size": 10,
              "solidity": 0.2
             }
            },
            "type": "bar"
           }
          ],
          "barpolar": [
           {
            "marker": {
             "line": {
              "color": "#E5ECF6",
              "width": 0.5
             },
             "pattern": {
              "fillmode": "overlay",
              "size": 10,
              "solidity": 0.2
             }
            },
            "type": "barpolar"
           }
          ],
          "carpet": [
           {
            "aaxis": {
             "endlinecolor": "#2a3f5f",
             "gridcolor": "white",
             "linecolor": "white",
             "minorgridcolor": "white",
             "startlinecolor": "#2a3f5f"
            },
            "baxis": {
             "endlinecolor": "#2a3f5f",
             "gridcolor": "white",
             "linecolor": "white",
             "minorgridcolor": "white",
             "startlinecolor": "#2a3f5f"
            },
            "type": "carpet"
           }
          ],
          "choropleth": [
           {
            "colorbar": {
             "outlinewidth": 0,
             "ticks": ""
            },
            "type": "choropleth"
           }
          ],
          "contour": [
           {
            "colorbar": {
             "outlinewidth": 0,
             "ticks": ""
            },
            "colorscale": [
             [
              0,
              "#0d0887"
             ],
             [
              0.1111111111111111,
              "#46039f"
             ],
             [
              0.2222222222222222,
              "#7201a8"
             ],
             [
              0.3333333333333333,
              "#9c179e"
             ],
             [
              0.4444444444444444,
              "#bd3786"
             ],
             [
              0.5555555555555556,
              "#d8576b"
             ],
             [
              0.6666666666666666,
              "#ed7953"
             ],
             [
              0.7777777777777778,
              "#fb9f3a"
             ],
             [
              0.8888888888888888,
              "#fdca26"
             ],
             [
              1,
              "#f0f921"
             ]
            ],
            "type": "contour"
           }
          ],
          "contourcarpet": [
           {
            "colorbar": {
             "outlinewidth": 0,
             "ticks": ""
            },
            "type": "contourcarpet"
           }
          ],
          "heatmap": [
           {
            "colorbar": {
             "outlinewidth": 0,
             "ticks": ""
            },
            "colorscale": [
             [
              0,
              "#0d0887"
             ],
             [
              0.1111111111111111,
              "#46039f"
             ],
             [
              0.2222222222222222,
              "#7201a8"
             ],
             [
              0.3333333333333333,
              "#9c179e"
             ],
             [
              0.4444444444444444,
              "#bd3786"
             ],
             [
              0.5555555555555556,
              "#d8576b"
             ],
             [
              0.6666666666666666,
              "#ed7953"
             ],
             [
              0.7777777777777778,
              "#fb9f3a"
             ],
             [
              0.8888888888888888,
              "#fdca26"
             ],
             [
              1,
              "#f0f921"
             ]
            ],
            "type": "heatmap"
           }
          ],
          "heatmapgl": [
           {
            "colorbar": {
             "outlinewidth": 0,
             "ticks": ""
            },
            "colorscale": [
             [
              0,
              "#0d0887"
             ],
             [
              0.1111111111111111,
              "#46039f"
             ],
             [
              0.2222222222222222,
              "#7201a8"
             ],
             [
              0.3333333333333333,
              "#9c179e"
             ],
             [
              0.4444444444444444,
              "#bd3786"
             ],
             [
              0.5555555555555556,
              "#d8576b"
             ],
             [
              0.6666666666666666,
              "#ed7953"
             ],
             [
              0.7777777777777778,
              "#fb9f3a"
             ],
             [
              0.8888888888888888,
              "#fdca26"
             ],
             [
              1,
              "#f0f921"
             ]
            ],
            "type": "heatmapgl"
           }
          ],
          "histogram": [
           {
            "marker": {
             "pattern": {
              "fillmode": "overlay",
              "size": 10,
              "solidity": 0.2
             }
            },
            "type": "histogram"
           }
          ],
          "histogram2d": [
           {
            "colorbar": {
             "outlinewidth": 0,
             "ticks": ""
            },
            "colorscale": [
             [
              0,
              "#0d0887"
             ],
             [
              0.1111111111111111,
              "#46039f"
             ],
             [
              0.2222222222222222,
              "#7201a8"
             ],
             [
              0.3333333333333333,
              "#9c179e"
             ],
             [
              0.4444444444444444,
              "#bd3786"
             ],
             [
              0.5555555555555556,
              "#d8576b"
             ],
             [
              0.6666666666666666,
              "#ed7953"
             ],
             [
              0.7777777777777778,
              "#fb9f3a"
             ],
             [
              0.8888888888888888,
              "#fdca26"
             ],
             [
              1,
              "#f0f921"
             ]
            ],
            "type": "histogram2d"
           }
          ],
          "histogram2dcontour": [
           {
            "colorbar": {
             "outlinewidth": 0,
             "ticks": ""
            },
            "colorscale": [
             [
              0,
              "#0d0887"
             ],
             [
              0.1111111111111111,
              "#46039f"
             ],
             [
              0.2222222222222222,
              "#7201a8"
             ],
             [
              0.3333333333333333,
              "#9c179e"
             ],
             [
              0.4444444444444444,
              "#bd3786"
             ],
             [
              0.5555555555555556,
              "#d8576b"
             ],
             [
              0.6666666666666666,
              "#ed7953"
             ],
             [
              0.7777777777777778,
              "#fb9f3a"
             ],
             [
              0.8888888888888888,
              "#fdca26"
             ],
             [
              1,
              "#f0f921"
             ]
            ],
            "type": "histogram2dcontour"
           }
          ],
          "mesh3d": [
           {
            "colorbar": {
             "outlinewidth": 0,
             "ticks": ""
            },
            "type": "mesh3d"
           }
          ],
          "parcoords": [
           {
            "line": {
             "colorbar": {
              "outlinewidth": 0,
              "ticks": ""
             }
            },
            "type": "parcoords"
           }
          ],
          "pie": [
           {
            "automargin": true,
            "type": "pie"
           }
          ],
          "scatter": [
           {
            "fillpattern": {
             "fillmode": "overlay",
             "size": 10,
             "solidity": 0.2
            },
            "type": "scatter"
           }
          ],
          "scatter3d": [
           {
            "line": {
             "colorbar": {
              "outlinewidth": 0,
              "ticks": ""
             }
            },
            "marker": {
             "colorbar": {
              "outlinewidth": 0,
              "ticks": ""
             }
            },
            "type": "scatter3d"
           }
          ],
          "scattercarpet": [
           {
            "marker": {
             "colorbar": {
              "outlinewidth": 0,
              "ticks": ""
             }
            },
            "type": "scattercarpet"
           }
          ],
          "scattergeo": [
           {
            "marker": {
             "colorbar": {
              "outlinewidth": 0,
              "ticks": ""
             }
            },
            "type": "scattergeo"
           }
          ],
          "scattergl": [
           {
            "marker": {
             "colorbar": {
              "outlinewidth": 0,
              "ticks": ""
             }
            },
            "type": "scattergl"
           }
          ],
          "scattermapbox": [
           {
            "marker": {
             "colorbar": {
              "outlinewidth": 0,
              "ticks": ""
             }
            },
            "type": "scattermapbox"
           }
          ],
          "scatterpolar": [
           {
            "marker": {
             "colorbar": {
              "outlinewidth": 0,
              "ticks": ""
             }
            },
            "type": "scatterpolar"
           }
          ],
          "scatterpolargl": [
           {
            "marker": {
             "colorbar": {
              "outlinewidth": 0,
              "ticks": ""
             }
            },
            "type": "scatterpolargl"
           }
          ],
          "scatterternary": [
           {
            "marker": {
             "colorbar": {
              "outlinewidth": 0,
              "ticks": ""
             }
            },
            "type": "scatterternary"
           }
          ],
          "surface": [
           {
            "colorbar": {
             "outlinewidth": 0,
             "ticks": ""
            },
            "colorscale": [
             [
              0,
              "#0d0887"
             ],
             [
              0.1111111111111111,
              "#46039f"
             ],
             [
              0.2222222222222222,
              "#7201a8"
             ],
             [
              0.3333333333333333,
              "#9c179e"
             ],
             [
              0.4444444444444444,
              "#bd3786"
             ],
             [
              0.5555555555555556,
              "#d8576b"
             ],
             [
              0.6666666666666666,
              "#ed7953"
             ],
             [
              0.7777777777777778,
              "#fb9f3a"
             ],
             [
              0.8888888888888888,
              "#fdca26"
             ],
             [
              1,
              "#f0f921"
             ]
            ],
            "type": "surface"
           }
          ],
          "table": [
           {
            "cells": {
             "fill": {
              "color": "#EBF0F8"
             },
             "line": {
              "color": "white"
             }
            },
            "header": {
             "fill": {
              "color": "#C8D4E3"
             },
             "line": {
              "color": "white"
             }
            },
            "type": "table"
           }
          ]
         },
         "layout": {
          "annotationdefaults": {
           "arrowcolor": "#2a3f5f",
           "arrowhead": 0,
           "arrowwidth": 1
          },
          "autotypenumbers": "strict",
          "coloraxis": {
           "colorbar": {
            "outlinewidth": 0,
            "ticks": ""
           }
          },
          "colorscale": {
           "diverging": [
            [
             0,
             "#8e0152"
            ],
            [
             0.1,
             "#c51b7d"
            ],
            [
             0.2,
             "#de77ae"
            ],
            [
             0.3,
             "#f1b6da"
            ],
            [
             0.4,
             "#fde0ef"
            ],
            [
             0.5,
             "#f7f7f7"
            ],
            [
             0.6,
             "#e6f5d0"
            ],
            [
             0.7,
             "#b8e186"
            ],
            [
             0.8,
             "#7fbc41"
            ],
            [
             0.9,
             "#4d9221"
            ],
            [
             1,
             "#276419"
            ]
           ],
           "sequential": [
            [
             0,
             "#0d0887"
            ],
            [
             0.1111111111111111,
             "#46039f"
            ],
            [
             0.2222222222222222,
             "#7201a8"
            ],
            [
             0.3333333333333333,
             "#9c179e"
            ],
            [
             0.4444444444444444,
             "#bd3786"
            ],
            [
             0.5555555555555556,
             "#d8576b"
            ],
            [
             0.6666666666666666,
             "#ed7953"
            ],
            [
             0.7777777777777778,
             "#fb9f3a"
            ],
            [
             0.8888888888888888,
             "#fdca26"
            ],
            [
             1,
             "#f0f921"
            ]
           ],
           "sequentialminus": [
            [
             0,
             "#0d0887"
            ],
            [
             0.1111111111111111,
             "#46039f"
            ],
            [
             0.2222222222222222,
             "#7201a8"
            ],
            [
             0.3333333333333333,
             "#9c179e"
            ],
            [
             0.4444444444444444,
             "#bd3786"
            ],
            [
             0.5555555555555556,
             "#d8576b"
            ],
            [
             0.6666666666666666,
             "#ed7953"
            ],
            [
             0.7777777777777778,
             "#fb9f3a"
            ],
            [
             0.8888888888888888,
             "#fdca26"
            ],
            [
             1,
             "#f0f921"
            ]
           ]
          },
          "colorway": [
           "#636efa",
           "#EF553B",
           "#00cc96",
           "#ab63fa",
           "#FFA15A",
           "#19d3f3",
           "#FF6692",
           "#B6E880",
           "#FF97FF",
           "#FECB52"
          ],
          "font": {
           "color": "#2a3f5f"
          },
          "geo": {
           "bgcolor": "white",
           "lakecolor": "white",
           "landcolor": "#E5ECF6",
           "showlakes": true,
           "showland": true,
           "subunitcolor": "white"
          },
          "hoverlabel": {
           "align": "left"
          },
          "hovermode": "closest",
          "mapbox": {
           "style": "light"
          },
          "paper_bgcolor": "white",
          "plot_bgcolor": "#E5ECF6",
          "polar": {
           "angularaxis": {
            "gridcolor": "white",
            "linecolor": "white",
            "ticks": ""
           },
           "bgcolor": "#E5ECF6",
           "radialaxis": {
            "gridcolor": "white",
            "linecolor": "white",
            "ticks": ""
           }
          },
          "scene": {
           "xaxis": {
            "backgroundcolor": "#E5ECF6",
            "gridcolor": "white",
            "gridwidth": 2,
            "linecolor": "white",
            "showbackground": true,
            "ticks": "",
            "zerolinecolor": "white"
           },
           "yaxis": {
            "backgroundcolor": "#E5ECF6",
            "gridcolor": "white",
            "gridwidth": 2,
            "linecolor": "white",
            "showbackground": true,
            "ticks": "",
            "zerolinecolor": "white"
           },
           "zaxis": {
            "backgroundcolor": "#E5ECF6",
            "gridcolor": "white",
            "gridwidth": 2,
            "linecolor": "white",
            "showbackground": true,
            "ticks": "",
            "zerolinecolor": "white"
           }
          },
          "shapedefaults": {
           "line": {
            "color": "#2a3f5f"
           }
          },
          "ternary": {
           "aaxis": {
            "gridcolor": "white",
            "linecolor": "white",
            "ticks": ""
           },
           "baxis": {
            "gridcolor": "white",
            "linecolor": "white",
            "ticks": ""
           },
           "bgcolor": "#E5ECF6",
           "caxis": {
            "gridcolor": "white",
            "linecolor": "white",
            "ticks": ""
           }
          },
          "title": {
           "x": 0.05
          },
          "xaxis": {
           "automargin": true,
           "gridcolor": "white",
           "linecolor": "white",
           "ticks": "",
           "title": {
            "standoff": 15
           },
           "zerolinecolor": "white",
           "zerolinewidth": 2
          },
          "yaxis": {
           "automargin": true,
           "gridcolor": "white",
           "linecolor": "white",
           "ticks": "",
           "title": {
            "standoff": 15
           },
           "zerolinecolor": "white",
           "zerolinewidth": 2
          }
         }
        },
        "width": 900
       }
      }
     },
     "metadata": {},
     "output_type": "display_data"
    }
   ],
   "source": [
    "# read facelets from file\n",
    "with open('state.txt') as f:\n",
    "    facelets9 = f.read()\n",
    "facelets9 = facelets9.split(\";\")\n",
    "\n",
    "plot_cube_n(facelets9)"
   ]
  }
 ],
 "metadata": {
  "kernelspec": {
   "display_name": "Python 3",
   "language": "python",
   "name": "python3"
  },
  "language_info": {
   "codemirror_mode": {
    "name": "ipython",
    "version": 3
   },
   "file_extension": ".py",
   "mimetype": "text/x-python",
   "name": "python",
   "nbconvert_exporter": "python",
   "pygments_lexer": "ipython3",
   "version": "3.11.4"
  }
 },
 "nbformat": 4,
 "nbformat_minor": 2
}
