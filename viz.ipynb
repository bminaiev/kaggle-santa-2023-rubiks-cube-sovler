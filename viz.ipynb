{
 "cells": [
  {
   "cell_type": "code",
   "execution_count": 2,
   "metadata": {},
   "outputs": [],
   "source": [
    "from functools import reduce\n",
    "import plotly.graph_objects as go"
   ]
  },
  {
   "cell_type": "code",
   "execution_count": 3,
   "metadata": {},
   "outputs": [],
   "source": [
    "def plot_cube_n(facelets=None, n=3):\n",
    "\n",
    "    fs = n**2\n",
    "    vs = (n+1)**2\n",
    "\n",
    "    if facelets is None:\n",
    "        facelets = [*[\"A\"]*fs, *[\"B\"]*fs, *[\"C\"]*fs, *[\"D\"]*fs, *[\"E\"]*fs, *[\"F\"]*fs]\n",
    "\n",
    "    vertices = []\n",
    "    vertices.extend([(x, y, 0) for y in range(n, -1, -1) for x in range(n+1)])  # dn down\n",
    "    vertices.extend([(x, 0, z) for z in range(n+1) for x in range(n+1)])        # f0 front\n",
    "    vertices.extend([(n, y, z) for z in range(n+1) for y in range(n+1)])        # r0 right\n",
    "    vertices.extend([(x, n, z) for z in range(n+1) for x in range(n, -1, -1)])        # fn back\n",
    "    vertices.extend([(0, y, z) for z in range(n+1) for y in range(n, -1, -1)])  # r0 left\n",
    "    # vertices.extend([(x, y, n) for y in range(n, -1, -1) for x in range(n+1)])  # d0 up\n",
    "    vertices.extend([(x, y, n) for y in range(n+1) for x in range(n+1)])  # d0 up\n",
    "\n",
    "    colors = {\n",
    "        \"A\": \"white\",\n",
    "        \"B\": \"#3588cc\",\n",
    "        \"C\": \"red\",\n",
    "        \"D\": \"green\",\n",
    "        \"E\": \"orange\",\n",
    "        \"F\": \"yellow\",\n",
    "    }\n",
    "\n",
    "    facelet_colors = [colors[facelet] for facelet in facelets]\n",
    "    facecolor = []\n",
    "    for f_color in facelet_colors:\n",
    "        facecolor.extend([f_color, f_color])\n",
    "\n",
    "\n",
    "    ivs = []\n",
    "    for i in range(vs):\n",
    "        if (i+1) % (n+1) != 0 and i+1 < n*(n+1): ivs.extend([i, i])\n",
    "\n",
    "    jvs = []\n",
    "    for i, j in zip([i for i in range(vs) if i % (n+1) != 0 and i < n*(n+1)], [j for j in range(vs) if (j+1) % (n+1) != 0 and j+1 > n+1]):\n",
    "        jvs.extend([i, j])\n",
    "\n",
    "    kvs = []\n",
    "    for i in range(vs):\n",
    "        if (i) % (n+1) != 0 and i+1 > n+1: kvs.extend([i, i])\n",
    "\n",
    "    fig = go.Figure(data=[\n",
    "        go.Mesh3d(\n",
    "            x=[v[0] for v in vertices][0:vs*6],\n",
    "            y=[v[1] for v in vertices][0:vs*6],\n",
    "            z=[v[2] for v in vertices][0:vs*6],\n",
    "            i=reduce(lambda x, y: x.extend(y) or x, [[v+vs*i for v in ivs]for i in range(6)], []),\n",
    "            j=reduce(lambda x, y: x.extend(y) or x, [[v+vs*i for v in jvs]for i in range(6)], []),\n",
    "            k=reduce(lambda x, y: x.extend(y) or x, [[v+vs*i for v in kvs]for i in range(6)], []),\n",
    "            facecolor=facecolor,\n",
    "            opacity=1,\n",
    "            hoverinfo='none'\n",
    "        )\n",
    "    ])\n",
    "\n",
    "    lines_seq = [[0, n, n, 0, 0], [0, 0, n, n, 0]]\n",
    "\n",
    "    for i in range(n+1):\n",
    "        fig.add_trace(go.Scatter3d(\n",
    "            x=lines_seq[0],\n",
    "            y=lines_seq[1],\n",
    "            z=[i]*5,\n",
    "            mode=\"lines\",\n",
    "            line=dict(width=5, color=\"black\"),\n",
    "            hoverinfo=\"none\"\n",
    "        ))\n",
    "\n",
    "        fig.add_trace(go.Scatter3d(\n",
    "            x=lines_seq[1],\n",
    "            y=[i]*5,\n",
    "            z=lines_seq[0],\n",
    "            mode=\"lines\",\n",
    "            line=dict(width=5, color=\"black\"),\n",
    "            hoverinfo=\"none\"\n",
    "        ))\n",
    "\n",
    "        fig.add_trace(go.Scatter3d(\n",
    "            x=[i]*5,\n",
    "            y=lines_seq[1],\n",
    "            z=lines_seq[0],\n",
    "            mode=\"lines\",\n",
    "            line=dict(width=5, color=\"black\"),\n",
    "            hoverinfo=\"none\"\n",
    "        ))\n",
    "\n",
    "    fig.add_trace(go.Scatter3d(\n",
    "        x=[n/2, n/2, n+1.5+n*0.5], \n",
    "        y=[n/2, -1.5-n*0.5, n/2], \n",
    "        z=[n+1+n*0.5, n/2, n/2], \n",
    "        mode=\"text\", \n",
    "        text=[\"UP\", \"FRONT\", \"RIGHT\"], \n",
    "        textposition=\"middle center\", \n",
    "        textfont=dict(\n",
    "            size=15+n*2,\n",
    "        )\n",
    "    ))\n",
    "\n",
    "    fig.update_layout(\n",
    "        showlegend=False,\n",
    "        autosize=False,\n",
    "        width=900,\n",
    "        height=800,\n",
    "        scene=dict(\n",
    "            xaxis=dict(showgrid=False, zeroline=False, showticklabels=False, showbackground=False, title_text=\"\", showspikes=False),\n",
    "            yaxis=dict(showgrid=False, zeroline=False, showticklabels=False, showbackground=False, title_text=\"\", showspikes=False),\n",
    "            zaxis=dict(showgrid=False, zeroline=False, showticklabels=False, showbackground=False, title_text=\"\", showspikes=False),\n",
    "            camera=dict(\n",
    "                eye=dict(x=0.8, y=-1.2, z=0.8)\n",
    "            )\n",
    "        )\n",
    "    )\n",
    "\n",
    "    fig.show()"
   ]
  },
  {
   "cell_type": "code",
   "execution_count": 9,
   "metadata": {},
   "outputs": [
    {
     "data": {
      "application/vnd.plotly.v1+json": {
       "config": {
        "plotlyServerURL": "https://plot.ly"
       },
       "data": [
        {
         "facecolor": [
          "orange",
          "orange",
          "green",
          "green",
          "green",
          "green",
          "red",
          "red",
          "orange",
          "orange",
          "green",
          "green",
          "#3588cc",
          "#3588cc",
          "orange",
          "orange",
          "yellow",
          "yellow",
          "yellow",
          "yellow",
          "white",
          "white",
          "yellow",
          "yellow",
          "white",
          "white",
          "red",
          "red",
          "white",
          "white",
          "white",
          "white",
          "orange",
          "orange",
          "green",
          "green",
          "#3588cc",
          "#3588cc",
          "green",
          "green",
          "white",
          "white",
          "yellow",
          "yellow",
          "yellow",
          "yellow",
          "yellow",
          "yellow",
          "red",
          "red",
          "#3588cc",
          "#3588cc",
          "orange",
          "orange",
          "#3588cc",
          "#3588cc",
          "red",
          "red",
          "#3588cc",
          "#3588cc",
          "yellow",
          "yellow",
          "green",
          "green",
          "#3588cc",
          "#3588cc",
          "white",
          "white",
          "orange",
          "orange",
          "orange",
          "orange",
          "#3588cc",
          "#3588cc",
          "#3588cc",
          "#3588cc",
          "#3588cc",
          "#3588cc",
          "white",
          "white",
          "orange",
          "orange",
          "red",
          "red",
          "#3588cc",
          "#3588cc",
          "yellow",
          "yellow",
          "white",
          "white",
          "white",
          "white",
          "#3588cc",
          "#3588cc",
          "yellow",
          "yellow",
          "#3588cc",
          "#3588cc",
          "yellow",
          "yellow",
          "yellow",
          "yellow",
          "white",
          "white",
          "#3588cc",
          "#3588cc",
          "orange",
          "orange",
          "white",
          "white",
          "green",
          "green",
          "red",
          "red",
          "green",
          "green",
          "orange",
          "orange",
          "yellow",
          "yellow",
          "green",
          "green",
          "orange",
          "orange",
          "red",
          "red",
          "green",
          "green",
          "orange",
          "orange",
          "green",
          "green",
          "yellow",
          "yellow",
          "green",
          "green",
          "red",
          "red",
          "orange",
          "orange",
          "red",
          "red",
          "yellow",
          "yellow",
          "#3588cc",
          "#3588cc",
          "white",
          "white",
          "green",
          "green",
          "green",
          "green",
          "green",
          "green",
          "red",
          "red",
          "orange",
          "orange",
          "green",
          "green",
          "#3588cc",
          "#3588cc",
          "white",
          "white",
          "white",
          "white",
          "green",
          "green",
          "#3588cc",
          "#3588cc",
          "green",
          "green",
          "yellow",
          "yellow",
          "green",
          "green",
          "yellow",
          "yellow",
          "yellow",
          "yellow",
          "#3588cc",
          "#3588cc",
          "orange",
          "orange",
          "orange",
          "orange",
          "white",
          "white",
          "#3588cc",
          "#3588cc",
          "red",
          "red",
          "#3588cc",
          "#3588cc",
          "#3588cc",
          "#3588cc",
          "red",
          "red",
          "#3588cc",
          "#3588cc",
          "yellow",
          "yellow",
          "yellow",
          "yellow",
          "red",
          "red",
          "red",
          "red",
          "orange",
          "orange",
          "yellow",
          "yellow",
          "orange",
          "orange",
          "white",
          "white",
          "#3588cc",
          "#3588cc",
          "green",
          "green",
          "green",
          "green",
          "orange",
          "orange",
          "orange",
          "orange",
          "red",
          "red",
          "white",
          "white",
          "orange",
          "orange",
          "green",
          "green",
          "red",
          "red",
          "white",
          "white",
          "white",
          "white",
          "yellow",
          "yellow",
          "white",
          "white",
          "orange",
          "orange",
          "red",
          "red",
          "#3588cc",
          "#3588cc",
          "red",
          "red",
          "red",
          "red",
          "red",
          "red",
          "red",
          "red",
          "green",
          "green",
          "white",
          "white",
          "green",
          "green",
          "white",
          "white",
          "yellow",
          "yellow",
          "red",
          "red",
          "yellow",
          "yellow",
          "yellow",
          "yellow",
          "yellow",
          "yellow",
          "red",
          "red",
          "red",
          "red",
          "#3588cc",
          "#3588cc",
          "red",
          "red",
          "white",
          "white",
          "#3588cc",
          "#3588cc",
          "orange",
          "orange",
          "orange",
          "orange",
          "green",
          "green",
          "orange",
          "orange",
          "white",
          "white",
          "white",
          "white"
         ],
         "hoverinfo": "none",
         "i": [
          0,
          0,
          1,
          1,
          2,
          2,
          3,
          3,
          4,
          4,
          6,
          6,
          7,
          7,
          8,
          8,
          9,
          9,
          10,
          10,
          12,
          12,
          13,
          13,
          14,
          14,
          15,
          15,
          16,
          16,
          18,
          18,
          19,
          19,
          20,
          20,
          21,
          21,
          22,
          22,
          24,
          24,
          25,
          25,
          26,
          26,
          27,
          27,
          28,
          28,
          36,
          36,
          37,
          37,
          38,
          38,
          39,
          39,
          40,
          40,
          42,
          42,
          43,
          43,
          44,
          44,
          45,
          45,
          46,
          46,
          48,
          48,
          49,
          49,
          50,
          50,
          51,
          51,
          52,
          52,
          54,
          54,
          55,
          55,
          56,
          56,
          57,
          57,
          58,
          58,
          60,
          60,
          61,
          61,
          62,
          62,
          63,
          63,
          64,
          64,
          72,
          72,
          73,
          73,
          74,
          74,
          75,
          75,
          76,
          76,
          78,
          78,
          79,
          79,
          80,
          80,
          81,
          81,
          82,
          82,
          84,
          84,
          85,
          85,
          86,
          86,
          87,
          87,
          88,
          88,
          90,
          90,
          91,
          91,
          92,
          92,
          93,
          93,
          94,
          94,
          96,
          96,
          97,
          97,
          98,
          98,
          99,
          99,
          100,
          100,
          108,
          108,
          109,
          109,
          110,
          110,
          111,
          111,
          112,
          112,
          114,
          114,
          115,
          115,
          116,
          116,
          117,
          117,
          118,
          118,
          120,
          120,
          121,
          121,
          122,
          122,
          123,
          123,
          124,
          124,
          126,
          126,
          127,
          127,
          128,
          128,
          129,
          129,
          130,
          130,
          132,
          132,
          133,
          133,
          134,
          134,
          135,
          135,
          136,
          136,
          144,
          144,
          145,
          145,
          146,
          146,
          147,
          147,
          148,
          148,
          150,
          150,
          151,
          151,
          152,
          152,
          153,
          153,
          154,
          154,
          156,
          156,
          157,
          157,
          158,
          158,
          159,
          159,
          160,
          160,
          162,
          162,
          163,
          163,
          164,
          164,
          165,
          165,
          166,
          166,
          168,
          168,
          169,
          169,
          170,
          170,
          171,
          171,
          172,
          172,
          180,
          180,
          181,
          181,
          182,
          182,
          183,
          183,
          184,
          184,
          186,
          186,
          187,
          187,
          188,
          188,
          189,
          189,
          190,
          190,
          192,
          192,
          193,
          193,
          194,
          194,
          195,
          195,
          196,
          196,
          198,
          198,
          199,
          199,
          200,
          200,
          201,
          201,
          202,
          202,
          204,
          204,
          205,
          205,
          206,
          206,
          207,
          207,
          208,
          208
         ],
         "j": [
          1,
          6,
          2,
          7,
          3,
          8,
          4,
          9,
          5,
          10,
          7,
          12,
          8,
          13,
          9,
          14,
          10,
          15,
          11,
          16,
          13,
          18,
          14,
          19,
          15,
          20,
          16,
          21,
          17,
          22,
          19,
          24,
          20,
          25,
          21,
          26,
          22,
          27,
          23,
          28,
          25,
          30,
          26,
          31,
          27,
          32,
          28,
          33,
          29,
          34,
          37,
          42,
          38,
          43,
          39,
          44,
          40,
          45,
          41,
          46,
          43,
          48,
          44,
          49,
          45,
          50,
          46,
          51,
          47,
          52,
          49,
          54,
          50,
          55,
          51,
          56,
          52,
          57,
          53,
          58,
          55,
          60,
          56,
          61,
          57,
          62,
          58,
          63,
          59,
          64,
          61,
          66,
          62,
          67,
          63,
          68,
          64,
          69,
          65,
          70,
          73,
          78,
          74,
          79,
          75,
          80,
          76,
          81,
          77,
          82,
          79,
          84,
          80,
          85,
          81,
          86,
          82,
          87,
          83,
          88,
          85,
          90,
          86,
          91,
          87,
          92,
          88,
          93,
          89,
          94,
          91,
          96,
          92,
          97,
          93,
          98,
          94,
          99,
          95,
          100,
          97,
          102,
          98,
          103,
          99,
          104,
          100,
          105,
          101,
          106,
          109,
          114,
          110,
          115,
          111,
          116,
          112,
          117,
          113,
          118,
          115,
          120,
          116,
          121,
          117,
          122,
          118,
          123,
          119,
          124,
          121,
          126,
          122,
          127,
          123,
          128,
          124,
          129,
          125,
          130,
          127,
          132,
          128,
          133,
          129,
          134,
          130,
          135,
          131,
          136,
          133,
          138,
          134,
          139,
          135,
          140,
          136,
          141,
          137,
          142,
          145,
          150,
          146,
          151,
          147,
          152,
          148,
          153,
          149,
          154,
          151,
          156,
          152,
          157,
          153,
          158,
          154,
          159,
          155,
          160,
          157,
          162,
          158,
          163,
          159,
          164,
          160,
          165,
          161,
          166,
          163,
          168,
          164,
          169,
          165,
          170,
          166,
          171,
          167,
          172,
          169,
          174,
          170,
          175,
          171,
          176,
          172,
          177,
          173,
          178,
          181,
          186,
          182,
          187,
          183,
          188,
          184,
          189,
          185,
          190,
          187,
          192,
          188,
          193,
          189,
          194,
          190,
          195,
          191,
          196,
          193,
          198,
          194,
          199,
          195,
          200,
          196,
          201,
          197,
          202,
          199,
          204,
          200,
          205,
          201,
          206,
          202,
          207,
          203,
          208,
          205,
          210,
          206,
          211,
          207,
          212,
          208,
          213,
          209,
          214
         ],
         "k": [
          7,
          7,
          8,
          8,
          9,
          9,
          10,
          10,
          11,
          11,
          13,
          13,
          14,
          14,
          15,
          15,
          16,
          16,
          17,
          17,
          19,
          19,
          20,
          20,
          21,
          21,
          22,
          22,
          23,
          23,
          25,
          25,
          26,
          26,
          27,
          27,
          28,
          28,
          29,
          29,
          31,
          31,
          32,
          32,
          33,
          33,
          34,
          34,
          35,
          35,
          43,
          43,
          44,
          44,
          45,
          45,
          46,
          46,
          47,
          47,
          49,
          49,
          50,
          50,
          51,
          51,
          52,
          52,
          53,
          53,
          55,
          55,
          56,
          56,
          57,
          57,
          58,
          58,
          59,
          59,
          61,
          61,
          62,
          62,
          63,
          63,
          64,
          64,
          65,
          65,
          67,
          67,
          68,
          68,
          69,
          69,
          70,
          70,
          71,
          71,
          79,
          79,
          80,
          80,
          81,
          81,
          82,
          82,
          83,
          83,
          85,
          85,
          86,
          86,
          87,
          87,
          88,
          88,
          89,
          89,
          91,
          91,
          92,
          92,
          93,
          93,
          94,
          94,
          95,
          95,
          97,
          97,
          98,
          98,
          99,
          99,
          100,
          100,
          101,
          101,
          103,
          103,
          104,
          104,
          105,
          105,
          106,
          106,
          107,
          107,
          115,
          115,
          116,
          116,
          117,
          117,
          118,
          118,
          119,
          119,
          121,
          121,
          122,
          122,
          123,
          123,
          124,
          124,
          125,
          125,
          127,
          127,
          128,
          128,
          129,
          129,
          130,
          130,
          131,
          131,
          133,
          133,
          134,
          134,
          135,
          135,
          136,
          136,
          137,
          137,
          139,
          139,
          140,
          140,
          141,
          141,
          142,
          142,
          143,
          143,
          151,
          151,
          152,
          152,
          153,
          153,
          154,
          154,
          155,
          155,
          157,
          157,
          158,
          158,
          159,
          159,
          160,
          160,
          161,
          161,
          163,
          163,
          164,
          164,
          165,
          165,
          166,
          166,
          167,
          167,
          169,
          169,
          170,
          170,
          171,
          171,
          172,
          172,
          173,
          173,
          175,
          175,
          176,
          176,
          177,
          177,
          178,
          178,
          179,
          179,
          187,
          187,
          188,
          188,
          189,
          189,
          190,
          190,
          191,
          191,
          193,
          193,
          194,
          194,
          195,
          195,
          196,
          196,
          197,
          197,
          199,
          199,
          200,
          200,
          201,
          201,
          202,
          202,
          203,
          203,
          205,
          205,
          206,
          206,
          207,
          207,
          208,
          208,
          209,
          209,
          211,
          211,
          212,
          212,
          213,
          213,
          214,
          214,
          215,
          215
         ],
         "opacity": 1,
         "type": "mesh3d",
         "x": [
          0,
          1,
          2,
          3,
          4,
          5,
          0,
          1,
          2,
          3,
          4,
          5,
          0,
          1,
          2,
          3,
          4,
          5,
          0,
          1,
          2,
          3,
          4,
          5,
          0,
          1,
          2,
          3,
          4,
          5,
          0,
          1,
          2,
          3,
          4,
          5,
          0,
          1,
          2,
          3,
          4,
          5,
          0,
          1,
          2,
          3,
          4,
          5,
          0,
          1,
          2,
          3,
          4,
          5,
          0,
          1,
          2,
          3,
          4,
          5,
          0,
          1,
          2,
          3,
          4,
          5,
          0,
          1,
          2,
          3,
          4,
          5,
          5,
          5,
          5,
          5,
          5,
          5,
          5,
          5,
          5,
          5,
          5,
          5,
          5,
          5,
          5,
          5,
          5,
          5,
          5,
          5,
          5,
          5,
          5,
          5,
          5,
          5,
          5,
          5,
          5,
          5,
          5,
          5,
          5,
          5,
          5,
          5,
          5,
          4,
          3,
          2,
          1,
          0,
          5,
          4,
          3,
          2,
          1,
          0,
          5,
          4,
          3,
          2,
          1,
          0,
          5,
          4,
          3,
          2,
          1,
          0,
          5,
          4,
          3,
          2,
          1,
          0,
          5,
          4,
          3,
          2,
          1,
          0,
          0,
          0,
          0,
          0,
          0,
          0,
          0,
          0,
          0,
          0,
          0,
          0,
          0,
          0,
          0,
          0,
          0,
          0,
          0,
          0,
          0,
          0,
          0,
          0,
          0,
          0,
          0,
          0,
          0,
          0,
          0,
          0,
          0,
          0,
          0,
          0,
          0,
          1,
          2,
          3,
          4,
          5,
          0,
          1,
          2,
          3,
          4,
          5,
          0,
          1,
          2,
          3,
          4,
          5,
          0,
          1,
          2,
          3,
          4,
          5,
          0,
          1,
          2,
          3,
          4,
          5,
          0,
          1,
          2,
          3,
          4,
          5
         ],
         "y": [
          5,
          5,
          5,
          5,
          5,
          5,
          4,
          4,
          4,
          4,
          4,
          4,
          3,
          3,
          3,
          3,
          3,
          3,
          2,
          2,
          2,
          2,
          2,
          2,
          1,
          1,
          1,
          1,
          1,
          1,
          0,
          0,
          0,
          0,
          0,
          0,
          0,
          0,
          0,
          0,
          0,
          0,
          0,
          0,
          0,
          0,
          0,
          0,
          0,
          0,
          0,
          0,
          0,
          0,
          0,
          0,
          0,
          0,
          0,
          0,
          0,
          0,
          0,
          0,
          0,
          0,
          0,
          0,
          0,
          0,
          0,
          0,
          0,
          1,
          2,
          3,
          4,
          5,
          0,
          1,
          2,
          3,
          4,
          5,
          0,
          1,
          2,
          3,
          4,
          5,
          0,
          1,
          2,
          3,
          4,
          5,
          0,
          1,
          2,
          3,
          4,
          5,
          0,
          1,
          2,
          3,
          4,
          5,
          5,
          5,
          5,
          5,
          5,
          5,
          5,
          5,
          5,
          5,
          5,
          5,
          5,
          5,
          5,
          5,
          5,
          5,
          5,
          5,
          5,
          5,
          5,
          5,
          5,
          5,
          5,
          5,
          5,
          5,
          5,
          5,
          5,
          5,
          5,
          5,
          5,
          4,
          3,
          2,
          1,
          0,
          5,
          4,
          3,
          2,
          1,
          0,
          5,
          4,
          3,
          2,
          1,
          0,
          5,
          4,
          3,
          2,
          1,
          0,
          5,
          4,
          3,
          2,
          1,
          0,
          5,
          4,
          3,
          2,
          1,
          0,
          0,
          0,
          0,
          0,
          0,
          0,
          1,
          1,
          1,
          1,
          1,
          1,
          2,
          2,
          2,
          2,
          2,
          2,
          3,
          3,
          3,
          3,
          3,
          3,
          4,
          4,
          4,
          4,
          4,
          4,
          5,
          5,
          5,
          5,
          5,
          5
         ],
         "z": [
          0,
          0,
          0,
          0,
          0,
          0,
          0,
          0,
          0,
          0,
          0,
          0,
          0,
          0,
          0,
          0,
          0,
          0,
          0,
          0,
          0,
          0,
          0,
          0,
          0,
          0,
          0,
          0,
          0,
          0,
          0,
          0,
          0,
          0,
          0,
          0,
          0,
          0,
          0,
          0,
          0,
          0,
          1,
          1,
          1,
          1,
          1,
          1,
          2,
          2,
          2,
          2,
          2,
          2,
          3,
          3,
          3,
          3,
          3,
          3,
          4,
          4,
          4,
          4,
          4,
          4,
          5,
          5,
          5,
          5,
          5,
          5,
          0,
          0,
          0,
          0,
          0,
          0,
          1,
          1,
          1,
          1,
          1,
          1,
          2,
          2,
          2,
          2,
          2,
          2,
          3,
          3,
          3,
          3,
          3,
          3,
          4,
          4,
          4,
          4,
          4,
          4,
          5,
          5,
          5,
          5,
          5,
          5,
          0,
          0,
          0,
          0,
          0,
          0,
          1,
          1,
          1,
          1,
          1,
          1,
          2,
          2,
          2,
          2,
          2,
          2,
          3,
          3,
          3,
          3,
          3,
          3,
          4,
          4,
          4,
          4,
          4,
          4,
          5,
          5,
          5,
          5,
          5,
          5,
          0,
          0,
          0,
          0,
          0,
          0,
          1,
          1,
          1,
          1,
          1,
          1,
          2,
          2,
          2,
          2,
          2,
          2,
          3,
          3,
          3,
          3,
          3,
          3,
          4,
          4,
          4,
          4,
          4,
          4,
          5,
          5,
          5,
          5,
          5,
          5,
          5,
          5,
          5,
          5,
          5,
          5,
          5,
          5,
          5,
          5,
          5,
          5,
          5,
          5,
          5,
          5,
          5,
          5,
          5,
          5,
          5,
          5,
          5,
          5,
          5,
          5,
          5,
          5,
          5,
          5,
          5,
          5,
          5,
          5,
          5,
          5
         ]
        },
        {
         "hoverinfo": "none",
         "line": {
          "color": "black",
          "width": 5
         },
         "mode": "lines",
         "type": "scatter3d",
         "x": [
          0,
          5,
          5,
          0,
          0
         ],
         "y": [
          0,
          0,
          5,
          5,
          0
         ],
         "z": [
          0,
          0,
          0,
          0,
          0
         ]
        },
        {
         "hoverinfo": "none",
         "line": {
          "color": "black",
          "width": 5
         },
         "mode": "lines",
         "type": "scatter3d",
         "x": [
          0,
          0,
          5,
          5,
          0
         ],
         "y": [
          0,
          0,
          0,
          0,
          0
         ],
         "z": [
          0,
          5,
          5,
          0,
          0
         ]
        },
        {
         "hoverinfo": "none",
         "line": {
          "color": "black",
          "width": 5
         },
         "mode": "lines",
         "type": "scatter3d",
         "x": [
          0,
          0,
          0,
          0,
          0
         ],
         "y": [
          0,
          0,
          5,
          5,
          0
         ],
         "z": [
          0,
          5,
          5,
          0,
          0
         ]
        },
        {
         "hoverinfo": "none",
         "line": {
          "color": "black",
          "width": 5
         },
         "mode": "lines",
         "type": "scatter3d",
         "x": [
          0,
          5,
          5,
          0,
          0
         ],
         "y": [
          0,
          0,
          5,
          5,
          0
         ],
         "z": [
          1,
          1,
          1,
          1,
          1
         ]
        },
        {
         "hoverinfo": "none",
         "line": {
          "color": "black",
          "width": 5
         },
         "mode": "lines",
         "type": "scatter3d",
         "x": [
          0,
          0,
          5,
          5,
          0
         ],
         "y": [
          1,
          1,
          1,
          1,
          1
         ],
         "z": [
          0,
          5,
          5,
          0,
          0
         ]
        },
        {
         "hoverinfo": "none",
         "line": {
          "color": "black",
          "width": 5
         },
         "mode": "lines",
         "type": "scatter3d",
         "x": [
          1,
          1,
          1,
          1,
          1
         ],
         "y": [
          0,
          0,
          5,
          5,
          0
         ],
         "z": [
          0,
          5,
          5,
          0,
          0
         ]
        },
        {
         "hoverinfo": "none",
         "line": {
          "color": "black",
          "width": 5
         },
         "mode": "lines",
         "type": "scatter3d",
         "x": [
          0,
          5,
          5,
          0,
          0
         ],
         "y": [
          0,
          0,
          5,
          5,
          0
         ],
         "z": [
          2,
          2,
          2,
          2,
          2
         ]
        },
        {
         "hoverinfo": "none",
         "line": {
          "color": "black",
          "width": 5
         },
         "mode": "lines",
         "type": "scatter3d",
         "x": [
          0,
          0,
          5,
          5,
          0
         ],
         "y": [
          2,
          2,
          2,
          2,
          2
         ],
         "z": [
          0,
          5,
          5,
          0,
          0
         ]
        },
        {
         "hoverinfo": "none",
         "line": {
          "color": "black",
          "width": 5
         },
         "mode": "lines",
         "type": "scatter3d",
         "x": [
          2,
          2,
          2,
          2,
          2
         ],
         "y": [
          0,
          0,
          5,
          5,
          0
         ],
         "z": [
          0,
          5,
          5,
          0,
          0
         ]
        },
        {
         "hoverinfo": "none",
         "line": {
          "color": "black",
          "width": 5
         },
         "mode": "lines",
         "type": "scatter3d",
         "x": [
          0,
          5,
          5,
          0,
          0
         ],
         "y": [
          0,
          0,
          5,
          5,
          0
         ],
         "z": [
          3,
          3,
          3,
          3,
          3
         ]
        },
        {
         "hoverinfo": "none",
         "line": {
          "color": "black",
          "width": 5
         },
         "mode": "lines",
         "type": "scatter3d",
         "x": [
          0,
          0,
          5,
          5,
          0
         ],
         "y": [
          3,
          3,
          3,
          3,
          3
         ],
         "z": [
          0,
          5,
          5,
          0,
          0
         ]
        },
        {
         "hoverinfo": "none",
         "line": {
          "color": "black",
          "width": 5
         },
         "mode": "lines",
         "type": "scatter3d",
         "x": [
          3,
          3,
          3,
          3,
          3
         ],
         "y": [
          0,
          0,
          5,
          5,
          0
         ],
         "z": [
          0,
          5,
          5,
          0,
          0
         ]
        },
        {
         "hoverinfo": "none",
         "line": {
          "color": "black",
          "width": 5
         },
         "mode": "lines",
         "type": "scatter3d",
         "x": [
          0,
          5,
          5,
          0,
          0
         ],
         "y": [
          0,
          0,
          5,
          5,
          0
         ],
         "z": [
          4,
          4,
          4,
          4,
          4
         ]
        },
        {
         "hoverinfo": "none",
         "line": {
          "color": "black",
          "width": 5
         },
         "mode": "lines",
         "type": "scatter3d",
         "x": [
          0,
          0,
          5,
          5,
          0
         ],
         "y": [
          4,
          4,
          4,
          4,
          4
         ],
         "z": [
          0,
          5,
          5,
          0,
          0
         ]
        },
        {
         "hoverinfo": "none",
         "line": {
          "color": "black",
          "width": 5
         },
         "mode": "lines",
         "type": "scatter3d",
         "x": [
          4,
          4,
          4,
          4,
          4
         ],
         "y": [
          0,
          0,
          5,
          5,
          0
         ],
         "z": [
          0,
          5,
          5,
          0,
          0
         ]
        },
        {
         "hoverinfo": "none",
         "line": {
          "color": "black",
          "width": 5
         },
         "mode": "lines",
         "type": "scatter3d",
         "x": [
          0,
          5,
          5,
          0,
          0
         ],
         "y": [
          0,
          0,
          5,
          5,
          0
         ],
         "z": [
          5,
          5,
          5,
          5,
          5
         ]
        },
        {
         "hoverinfo": "none",
         "line": {
          "color": "black",
          "width": 5
         },
         "mode": "lines",
         "type": "scatter3d",
         "x": [
          0,
          0,
          5,
          5,
          0
         ],
         "y": [
          5,
          5,
          5,
          5,
          5
         ],
         "z": [
          0,
          5,
          5,
          0,
          0
         ]
        },
        {
         "hoverinfo": "none",
         "line": {
          "color": "black",
          "width": 5
         },
         "mode": "lines",
         "type": "scatter3d",
         "x": [
          5,
          5,
          5,
          5,
          5
         ],
         "y": [
          0,
          0,
          5,
          5,
          0
         ],
         "z": [
          0,
          5,
          5,
          0,
          0
         ]
        },
        {
         "mode": "text",
         "text": [
          "UP",
          "FRONT",
          "RIGHT"
         ],
         "textfont": {
          "size": 25
         },
         "textposition": "middle center",
         "type": "scatter3d",
         "x": [
          2.5,
          2.5,
          9
         ],
         "y": [
          2.5,
          -4,
          2.5
         ],
         "z": [
          8.5,
          2.5,
          2.5
         ]
        }
       ],
       "layout": {
        "autosize": false,
        "height": 800,
        "scene": {
         "camera": {
          "eye": {
           "x": 0.8,
           "y": -1.2,
           "z": 0.8
          }
         },
         "xaxis": {
          "showbackground": false,
          "showgrid": false,
          "showspikes": false,
          "showticklabels": false,
          "title": {
           "text": ""
          },
          "zeroline": false
         },
         "yaxis": {
          "showbackground": false,
          "showgrid": false,
          "showspikes": false,
          "showticklabels": false,
          "title": {
           "text": ""
          },
          "zeroline": false
         },
         "zaxis": {
          "showbackground": false,
          "showgrid": false,
          "showspikes": false,
          "showticklabels": false,
          "title": {
           "text": ""
          },
          "zeroline": false
         }
        },
        "showlegend": false,
        "template": {
         "data": {
          "bar": [
           {
            "error_x": {
             "color": "#2a3f5f"
            },
            "error_y": {
             "color": "#2a3f5f"
            },
            "marker": {
             "line": {
              "color": "#E5ECF6",
              "width": 0.5
             },
             "pattern": {
              "fillmode": "overlay",
              "size": 10,
              "solidity": 0.2
             }
            },
            "type": "bar"
           }
          ],
          "barpolar": [
           {
            "marker": {
             "line": {
              "color": "#E5ECF6",
              "width": 0.5
             },
             "pattern": {
              "fillmode": "overlay",
              "size": 10,
              "solidity": 0.2
             }
            },
            "type": "barpolar"
           }
          ],
          "carpet": [
           {
            "aaxis": {
             "endlinecolor": "#2a3f5f",
             "gridcolor": "white",
             "linecolor": "white",
             "minorgridcolor": "white",
             "startlinecolor": "#2a3f5f"
            },
            "baxis": {
             "endlinecolor": "#2a3f5f",
             "gridcolor": "white",
             "linecolor": "white",
             "minorgridcolor": "white",
             "startlinecolor": "#2a3f5f"
            },
            "type": "carpet"
           }
          ],
          "choropleth": [
           {
            "colorbar": {
             "outlinewidth": 0,
             "ticks": ""
            },
            "type": "choropleth"
           }
          ],
          "contour": [
           {
            "colorbar": {
             "outlinewidth": 0,
             "ticks": ""
            },
            "colorscale": [
             [
              0,
              "#0d0887"
             ],
             [
              0.1111111111111111,
              "#46039f"
             ],
             [
              0.2222222222222222,
              "#7201a8"
             ],
             [
              0.3333333333333333,
              "#9c179e"
             ],
             [
              0.4444444444444444,
              "#bd3786"
             ],
             [
              0.5555555555555556,
              "#d8576b"
             ],
             [
              0.6666666666666666,
              "#ed7953"
             ],
             [
              0.7777777777777778,
              "#fb9f3a"
             ],
             [
              0.8888888888888888,
              "#fdca26"
             ],
             [
              1,
              "#f0f921"
             ]
            ],
            "type": "contour"
           }
          ],
          "contourcarpet": [
           {
            "colorbar": {
             "outlinewidth": 0,
             "ticks": ""
            },
            "type": "contourcarpet"
           }
          ],
          "heatmap": [
           {
            "colorbar": {
             "outlinewidth": 0,
             "ticks": ""
            },
            "colorscale": [
             [
              0,
              "#0d0887"
             ],
             [
              0.1111111111111111,
              "#46039f"
             ],
             [
              0.2222222222222222,
              "#7201a8"
             ],
             [
              0.3333333333333333,
              "#9c179e"
             ],
             [
              0.4444444444444444,
              "#bd3786"
             ],
             [
              0.5555555555555556,
              "#d8576b"
             ],
             [
              0.6666666666666666,
              "#ed7953"
             ],
             [
              0.7777777777777778,
              "#fb9f3a"
             ],
             [
              0.8888888888888888,
              "#fdca26"
             ],
             [
              1,
              "#f0f921"
             ]
            ],
            "type": "heatmap"
           }
          ],
          "heatmapgl": [
           {
            "colorbar": {
             "outlinewidth": 0,
             "ticks": ""
            },
            "colorscale": [
             [
              0,
              "#0d0887"
             ],
             [
              0.1111111111111111,
              "#46039f"
             ],
             [
              0.2222222222222222,
              "#7201a8"
             ],
             [
              0.3333333333333333,
              "#9c179e"
             ],
             [
              0.4444444444444444,
              "#bd3786"
             ],
             [
              0.5555555555555556,
              "#d8576b"
             ],
             [
              0.6666666666666666,
              "#ed7953"
             ],
             [
              0.7777777777777778,
              "#fb9f3a"
             ],
             [
              0.8888888888888888,
              "#fdca26"
             ],
             [
              1,
              "#f0f921"
             ]
            ],
            "type": "heatmapgl"
           }
          ],
          "histogram": [
           {
            "marker": {
             "pattern": {
              "fillmode": "overlay",
              "size": 10,
              "solidity": 0.2
             }
            },
            "type": "histogram"
           }
          ],
          "histogram2d": [
           {
            "colorbar": {
             "outlinewidth": 0,
             "ticks": ""
            },
            "colorscale": [
             [
              0,
              "#0d0887"
             ],
             [
              0.1111111111111111,
              "#46039f"
             ],
             [
              0.2222222222222222,
              "#7201a8"
             ],
             [
              0.3333333333333333,
              "#9c179e"
             ],
             [
              0.4444444444444444,
              "#bd3786"
             ],
             [
              0.5555555555555556,
              "#d8576b"
             ],
             [
              0.6666666666666666,
              "#ed7953"
             ],
             [
              0.7777777777777778,
              "#fb9f3a"
             ],
             [
              0.8888888888888888,
              "#fdca26"
             ],
             [
              1,
              "#f0f921"
             ]
            ],
            "type": "histogram2d"
           }
          ],
          "histogram2dcontour": [
           {
            "colorbar": {
             "outlinewidth": 0,
             "ticks": ""
            },
            "colorscale": [
             [
              0,
              "#0d0887"
             ],
             [
              0.1111111111111111,
              "#46039f"
             ],
             [
              0.2222222222222222,
              "#7201a8"
             ],
             [
              0.3333333333333333,
              "#9c179e"
             ],
             [
              0.4444444444444444,
              "#bd3786"
             ],
             [
              0.5555555555555556,
              "#d8576b"
             ],
             [
              0.6666666666666666,
              "#ed7953"
             ],
             [
              0.7777777777777778,
              "#fb9f3a"
             ],
             [
              0.8888888888888888,
              "#fdca26"
             ],
             [
              1,
              "#f0f921"
             ]
            ],
            "type": "histogram2dcontour"
           }
          ],
          "mesh3d": [
           {
            "colorbar": {
             "outlinewidth": 0,
             "ticks": ""
            },
            "type": "mesh3d"
           }
          ],
          "parcoords": [
           {
            "line": {
             "colorbar": {
              "outlinewidth": 0,
              "ticks": ""
             }
            },
            "type": "parcoords"
           }
          ],
          "pie": [
           {
            "automargin": true,
            "type": "pie"
           }
          ],
          "scatter": [
           {
            "fillpattern": {
             "fillmode": "overlay",
             "size": 10,
             "solidity": 0.2
            },
            "type": "scatter"
           }
          ],
          "scatter3d": [
           {
            "line": {
             "colorbar": {
              "outlinewidth": 0,
              "ticks": ""
             }
            },
            "marker": {
             "colorbar": {
              "outlinewidth": 0,
              "ticks": ""
             }
            },
            "type": "scatter3d"
           }
          ],
          "scattercarpet": [
           {
            "marker": {
             "colorbar": {
              "outlinewidth": 0,
              "ticks": ""
             }
            },
            "type": "scattercarpet"
           }
          ],
          "scattergeo": [
           {
            "marker": {
             "colorbar": {
              "outlinewidth": 0,
              "ticks": ""
             }
            },
            "type": "scattergeo"
           }
          ],
          "scattergl": [
           {
            "marker": {
             "colorbar": {
              "outlinewidth": 0,
              "ticks": ""
             }
            },
            "type": "scattergl"
           }
          ],
          "scattermapbox": [
           {
            "marker": {
             "colorbar": {
              "outlinewidth": 0,
              "ticks": ""
             }
            },
            "type": "scattermapbox"
           }
          ],
          "scatterpolar": [
           {
            "marker": {
             "colorbar": {
              "outlinewidth": 0,
              "ticks": ""
             }
            },
            "type": "scatterpolar"
           }
          ],
          "scatterpolargl": [
           {
            "marker": {
             "colorbar": {
              "outlinewidth": 0,
              "ticks": ""
             }
            },
            "type": "scatterpolargl"
           }
          ],
          "scatterternary": [
           {
            "marker": {
             "colorbar": {
              "outlinewidth": 0,
              "ticks": ""
             }
            },
            "type": "scatterternary"
           }
          ],
          "surface": [
           {
            "colorbar": {
             "outlinewidth": 0,
             "ticks": ""
            },
            "colorscale": [
             [
              0,
              "#0d0887"
             ],
             [
              0.1111111111111111,
              "#46039f"
             ],
             [
              0.2222222222222222,
              "#7201a8"
             ],
             [
              0.3333333333333333,
              "#9c179e"
             ],
             [
              0.4444444444444444,
              "#bd3786"
             ],
             [
              0.5555555555555556,
              "#d8576b"
             ],
             [
              0.6666666666666666,
              "#ed7953"
             ],
             [
              0.7777777777777778,
              "#fb9f3a"
             ],
             [
              0.8888888888888888,
              "#fdca26"
             ],
             [
              1,
              "#f0f921"
             ]
            ],
            "type": "surface"
           }
          ],
          "table": [
           {
            "cells": {
             "fill": {
              "color": "#EBF0F8"
             },
             "line": {
              "color": "white"
             }
            },
            "header": {
             "fill": {
              "color": "#C8D4E3"
             },
             "line": {
              "color": "white"
             }
            },
            "type": "table"
           }
          ]
         },
         "layout": {
          "annotationdefaults": {
           "arrowcolor": "#2a3f5f",
           "arrowhead": 0,
           "arrowwidth": 1
          },
          "autotypenumbers": "strict",
          "coloraxis": {
           "colorbar": {
            "outlinewidth": 0,
            "ticks": ""
           }
          },
          "colorscale": {
           "diverging": [
            [
             0,
             "#8e0152"
            ],
            [
             0.1,
             "#c51b7d"
            ],
            [
             0.2,
             "#de77ae"
            ],
            [
             0.3,
             "#f1b6da"
            ],
            [
             0.4,
             "#fde0ef"
            ],
            [
             0.5,
             "#f7f7f7"
            ],
            [
             0.6,
             "#e6f5d0"
            ],
            [
             0.7,
             "#b8e186"
            ],
            [
             0.8,
             "#7fbc41"
            ],
            [
             0.9,
             "#4d9221"
            ],
            [
             1,
             "#276419"
            ]
           ],
           "sequential": [
            [
             0,
             "#0d0887"
            ],
            [
             0.1111111111111111,
             "#46039f"
            ],
            [
             0.2222222222222222,
             "#7201a8"
            ],
            [
             0.3333333333333333,
             "#9c179e"
            ],
            [
             0.4444444444444444,
             "#bd3786"
            ],
            [
             0.5555555555555556,
             "#d8576b"
            ],
            [
             0.6666666666666666,
             "#ed7953"
            ],
            [
             0.7777777777777778,
             "#fb9f3a"
            ],
            [
             0.8888888888888888,
             "#fdca26"
            ],
            [
             1,
             "#f0f921"
            ]
           ],
           "sequentialminus": [
            [
             0,
             "#0d0887"
            ],
            [
             0.1111111111111111,
             "#46039f"
            ],
            [
             0.2222222222222222,
             "#7201a8"
            ],
            [
             0.3333333333333333,
             "#9c179e"
            ],
            [
             0.4444444444444444,
             "#bd3786"
            ],
            [
             0.5555555555555556,
             "#d8576b"
            ],
            [
             0.6666666666666666,
             "#ed7953"
            ],
            [
             0.7777777777777778,
             "#fb9f3a"
            ],
            [
             0.8888888888888888,
             "#fdca26"
            ],
            [
             1,
             "#f0f921"
            ]
           ]
          },
          "colorway": [
           "#636efa",
           "#EF553B",
           "#00cc96",
           "#ab63fa",
           "#FFA15A",
           "#19d3f3",
           "#FF6692",
           "#B6E880",
           "#FF97FF",
           "#FECB52"
          ],
          "font": {
           "color": "#2a3f5f"
          },
          "geo": {
           "bgcolor": "white",
           "lakecolor": "white",
           "landcolor": "#E5ECF6",
           "showlakes": true,
           "showland": true,
           "subunitcolor": "white"
          },
          "hoverlabel": {
           "align": "left"
          },
          "hovermode": "closest",
          "mapbox": {
           "style": "light"
          },
          "paper_bgcolor": "white",
          "plot_bgcolor": "#E5ECF6",
          "polar": {
           "angularaxis": {
            "gridcolor": "white",
            "linecolor": "white",
            "ticks": ""
           },
           "bgcolor": "#E5ECF6",
           "radialaxis": {
            "gridcolor": "white",
            "linecolor": "white",
            "ticks": ""
           }
          },
          "scene": {
           "xaxis": {
            "backgroundcolor": "#E5ECF6",
            "gridcolor": "white",
            "gridwidth": 2,
            "linecolor": "white",
            "showbackground": true,
            "ticks": "",
            "zerolinecolor": "white"
           },
           "yaxis": {
            "backgroundcolor": "#E5ECF6",
            "gridcolor": "white",
            "gridwidth": 2,
            "linecolor": "white",
            "showbackground": true,
            "ticks": "",
            "zerolinecolor": "white"
           },
           "zaxis": {
            "backgroundcolor": "#E5ECF6",
            "gridcolor": "white",
            "gridwidth": 2,
            "linecolor": "white",
            "showbackground": true,
            "ticks": "",
            "zerolinecolor": "white"
           }
          },
          "shapedefaults": {
           "line": {
            "color": "#2a3f5f"
           }
          },
          "ternary": {
           "aaxis": {
            "gridcolor": "white",
            "linecolor": "white",
            "ticks": ""
           },
           "baxis": {
            "gridcolor": "white",
            "linecolor": "white",
            "ticks": ""
           },
           "bgcolor": "#E5ECF6",
           "caxis": {
            "gridcolor": "white",
            "linecolor": "white",
            "ticks": ""
           }
          },
          "title": {
           "x": 0.05
          },
          "xaxis": {
           "automargin": true,
           "gridcolor": "white",
           "linecolor": "white",
           "ticks": "",
           "title": {
            "standoff": 15
           },
           "zerolinecolor": "white",
           "zerolinewidth": 2
          },
          "yaxis": {
           "automargin": true,
           "gridcolor": "white",
           "linecolor": "white",
           "ticks": "",
           "title": {
            "standoff": 15
           },
           "zerolinecolor": "white",
           "zerolinewidth": 2
          }
         }
        },
        "width": 900
       }
      }
     },
     "metadata": {},
     "output_type": "display_data"
    }
   ],
   "source": [
    "facelets9 = 'E;D;D;C;E;D;B;E;F;F;A;F;A;C;A;A;E;D;B;D;A;F;F;F;C;B;E;B;C;B;F;D;B;A;E;E;B;B;B;A;E;C;B;F;A;A;B;F;B;F;F;A;B;E;A;D;C;D;E;F;D;E;C;D;E;D;F;D;C;E;C;F;B;A;D;D;D;C;E;D;B;A;A;D;B;D;F;D;F;F;B;E;E;A;B;C;B;B;C;B;F;F;C;C;E;F;E;A;B;D;D;E;E;C;A;E;D;C;A;A;F;A;E;C;B;C;C;C;C;D;A;D;A;F;C;F;F;F;C;C;B;C;A;B;E;E;D;E;A;A'\n",
    "facelets9 = facelets9.split(\";\")\n",
    "\n",
    "plot_cube_n(facelets9, n=5)"
   ]
  }
 ],
 "metadata": {
  "kernelspec": {
   "display_name": "Python 3",
   "language": "python",
   "name": "python3"
  },
  "language_info": {
   "codemirror_mode": {
    "name": "ipython",
    "version": 3
   },
   "file_extension": ".py",
   "mimetype": "text/x-python",
   "name": "python",
   "nbconvert_exporter": "python",
   "pygments_lexer": "ipython3",
   "version": "3.11.4"
  }
 },
 "nbformat": 4,
 "nbformat_minor": 2
}
