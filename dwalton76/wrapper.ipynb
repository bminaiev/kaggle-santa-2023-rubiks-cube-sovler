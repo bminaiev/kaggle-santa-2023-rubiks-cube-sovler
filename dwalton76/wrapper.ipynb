{
 "cells": [
  {
   "cell_type": "code",
   "execution_count": 1,
   "metadata": {},
   "outputs": [
    {
     "name": "stderr",
     "output_type": "stream",
     "text": [
      "Cloning into 'rubiks-cube-NxNxN-solver'...\n"
     ]
    },
    {
     "name": "stdout",
     "output_type": "stream",
     "text": [
      "rm -rf build dist venv rubikscubennnsolver.egg-info cache ida_search ida_search_via_graph my-pt-states.txt\n",
      "find . -name __pycache__ | xargs rm -rf\n",
      "gcc -O3 -o ida_search_via_graph rubikscubennnsolver/ida_search_core.c rubikscubennnsolver/rotate_xxx.c rubikscubennnsolver/ida_search_666.c rubikscubennnsolver/ida_search_777.c rubikscubennnsolver/ida_search_via_graph.c -lm\n",
      "python3 -m venv venv\n",
      "Looking in indexes: https://pypi.org/simple, https://pypi.ngc.nvidia.com\n",
      "Requirement already satisfied: pip in ./venv/lib/python3.11/site-packages (23.0.1)\n",
      "Collecting pip\n",
      "  Downloading pip-23.3.2-py3-none-any.whl (2.1 MB)\n",
      "\u001b[2K     \u001b[38;2;114;156;31m━━━━━━━━━━━━━━━━━━━━━━━━━━━━━━━━━━━━━━━━\u001b[0m \u001b[32m2.1/2.1 MB\u001b[0m \u001b[31m40.8 MB/s\u001b[0m eta \u001b[36m0:00:00\u001b[0m31m30.3 MB/s\u001b[0m eta \u001b[36m0:00:01\u001b[0m\n",
      "\u001b[?25hInstalling collected packages: pip\n",
      "  Attempting uninstall: pip\n",
      "    Found existing installation: pip 23.0.1\n",
      "    Uninstalling pip-23.0.1:\n",
      "      Successfully uninstalled pip-23.0.1\n",
      "Successfully installed pip-23.3.2\n",
      "Looking in indexes: https://pypi.org/simple, https://pypi.ngc.nvidia.com\n",
      "Obtaining file:///home/borys/santa-2023/dwalton76/rubiks-cube-NxNxN-solver (from -r requirements.dev.txt (line 10))\n",
      "  Installing build dependencies: started\n",
      "  Installing build dependencies: finished with status 'done'\n",
      "  Checking if build backend supports build_editable: started\n",
      "  Checking if build backend supports build_editable: finished with status 'done'\n",
      "  Getting requirements to build wheel: started\n",
      "  Getting requirements to build wheel: finished with status 'done'\n",
      "  Preparing metadata (pyproject.toml): started\n",
      "  Preparing metadata (pyproject.toml): finished with status 'done'\n",
      "Collecting setuptools==49.2.0 (from -r requirements.dev.txt (line 2))\n",
      "  Downloading setuptools-49.2.0-py3-none-any.whl (789 kB)\n",
      "\u001b[2K     \u001b[38;2;114;156;31m━━━━━━━━━━━━━━━━━━━━━━━━━━━━━━━━━━━━━━\u001b[0m \u001b[32m789.8/789.8 kB\u001b[0m \u001b[31m25.7 MB/s\u001b[0m eta \u001b[36m0:00:00\u001b[0m\n",
      "\u001b[?25hCollecting wheel==0.34.2 (from -r requirements.dev.txt (line 3))\n",
      "  Downloading wheel-0.34.2-py2.py3-none-any.whl (26 kB)\n",
      "Collecting black==23.7.0 (from -r requirements.dev.txt (line 6))\n",
      "  Downloading black-23.7.0-cp311-cp311-manylinux_2_17_x86_64.manylinux2014_x86_64.whl.metadata (63 kB)\n",
      "\u001b[2K     \u001b[38;2;114;156;31m━━━━━━━━━━━━━━━━━━━━━━━━━━━━━━━━━━━━━━━\u001b[0m \u001b[32m63.4/63.4 kB\u001b[0m \u001b[31m202.2 MB/s\u001b[0m eta \u001b[36m0:00:00\u001b[0m\n",
      "\u001b[?25hCollecting flake8==6.1.0 (from -r requirements.dev.txt (line 7))\n",
      "  Downloading flake8-6.1.0-py2.py3-none-any.whl.metadata (3.8 kB)\n",
      "Collecting isort==5.12.0 (from -r requirements.dev.txt (line 8))\n",
      "  Downloading isort-5.12.0-py3-none-any.whl (91 kB)\n",
      "\u001b[2K     \u001b[38;2;114;156;31m━━━━━━━━━━━━━━━━━━━━━━━━━━━━━━━━━━━━━━━\u001b[0m \u001b[32m91.2/91.2 kB\u001b[0m \u001b[31m267.1 MB/s\u001b[0m eta \u001b[36m0:00:00\u001b[0m\n",
      "\u001b[?25hCollecting click>=8.0.0 (from black==23.7.0->-r requirements.dev.txt (line 6))\n",
      "  Downloading click-8.1.7-py3-none-any.whl.metadata (3.0 kB)\n",
      "Collecting mypy-extensions>=0.4.3 (from black==23.7.0->-r requirements.dev.txt (line 6))\n",
      "  Downloading mypy_extensions-1.0.0-py3-none-any.whl (4.7 kB)\n",
      "Collecting packaging>=22.0 (from black==23.7.0->-r requirements.dev.txt (line 6))\n",
      "  Downloading packaging-23.2-py3-none-any.whl.metadata (3.2 kB)\n",
      "Collecting pathspec>=0.9.0 (from black==23.7.0->-r requirements.dev.txt (line 6))\n",
      "  Downloading pathspec-0.12.1-py3-none-any.whl.metadata (21 kB)\n",
      "Collecting platformdirs>=2 (from black==23.7.0->-r requirements.dev.txt (line 6))\n",
      "  Downloading platformdirs-4.1.0-py3-none-any.whl.metadata (11 kB)\n",
      "Collecting mccabe<0.8.0,>=0.7.0 (from flake8==6.1.0->-r requirements.dev.txt (line 7))\n",
      "  Downloading mccabe-0.7.0-py2.py3-none-any.whl (7.3 kB)\n",
      "Collecting pycodestyle<2.12.0,>=2.11.0 (from flake8==6.1.0->-r requirements.dev.txt (line 7))\n",
      "  Downloading pycodestyle-2.11.1-py2.py3-none-any.whl.metadata (4.5 kB)\n",
      "Collecting pyflakes<3.2.0,>=3.1.0 (from flake8==6.1.0->-r requirements.dev.txt (line 7))\n",
      "  Downloading pyflakes-3.1.0-py2.py3-none-any.whl.metadata (3.5 kB)\n",
      "Downloading black-23.7.0-cp311-cp311-manylinux_2_17_x86_64.manylinux2014_x86_64.whl (1.6 MB)\n",
      "\u001b[2K   \u001b[38;2;114;156;31m━━━━━━━━━━━━━━━━━━━━━━━━━━━━━━━━━━━━━━━━\u001b[0m \u001b[32m1.6/1.6 MB\u001b[0m \u001b[31m56.9 MB/s\u001b[0m eta \u001b[36m0:00:00\u001b[0m\n",
      "\u001b[?25hDownloading flake8-6.1.0-py2.py3-none-any.whl (58 kB)\n",
      "\u001b[2K   \u001b[38;2;114;156;31m━━━━━━━━━━━━━━━━━━━━━━━━━━━━━━━━━━━━━━━━\u001b[0m \u001b[32m58.3/58.3 kB\u001b[0m \u001b[31m155.7 MB/s\u001b[0m eta \u001b[36m0:00:00\u001b[0m\n",
      "\u001b[?25hDownloading click-8.1.7-py3-none-any.whl (97 kB)\n",
      "\u001b[2K   \u001b[38;2;114;156;31m━━━━━━━━━━━━━━━━━━━━━━━━━━━━━━━━━━━━━━━━\u001b[0m \u001b[32m97.9/97.9 kB\u001b[0m \u001b[31m356.7 MB/s\u001b[0m eta \u001b[36m0:00:00\u001b[0m\n",
      "\u001b[?25hDownloading packaging-23.2-py3-none-any.whl (53 kB)\n",
      "\u001b[2K   \u001b[38;2;114;156;31m━━━━━━━━━━━━━━━━━━━━━━━━━━━━━━━━━━━━━━━━\u001b[0m \u001b[32m53.0/53.0 kB\u001b[0m \u001b[31m645.3 MB/s\u001b[0m eta \u001b[36m0:00:00\u001b[0m\n",
      "\u001b[?25hDownloading pathspec-0.12.1-py3-none-any.whl (31 kB)\n",
      "Downloading platformdirs-4.1.0-py3-none-any.whl (17 kB)\n",
      "Downloading pycodestyle-2.11.1-py2.py3-none-any.whl (31 kB)\n",
      "Downloading pyflakes-3.1.0-py2.py3-none-any.whl (62 kB)\n",
      "\u001b[2K   \u001b[38;2;114;156;31m━━━━━━━━━━━━━━━━━━━━━━━━━━━━━━━━━━━━━━━━\u001b[0m \u001b[32m62.6/62.6 kB\u001b[0m \u001b[31m221.1 MB/s\u001b[0m eta \u001b[36m0:00:00\u001b[0m\n",
      "\u001b[?25hInstalling collected packages: rubikscubennnsolver, wheel, setuptools, pyflakes, pycodestyle, platformdirs, pathspec, packaging, mypy-extensions, mccabe, isort, click, flake8, black\n",
      "  Running setup.py develop for rubikscubennnsolver\n",
      "  Attempting uninstall: setuptools\n",
      "    Found existing installation: setuptools 66.1.1\n",
      "    Uninstalling setuptools-66.1.1:\n",
      "      Successfully uninstalled setuptools-66.1.1\n",
      "Successfully installed black-23.7.0 click-8.1.7 flake8-6.1.0 isort-5.12.0 mccabe-0.7.0 mypy-extensions-1.0.0 packaging-23.2 pathspec-0.12.1 platformdirs-4.1.0 pycodestyle-2.11.1 pyflakes-3.1.0 rubikscubennnsolver-1.0.0 setuptools-49.2.0 wheel-0.34.2\n",
      "No broken requirements found.\n"
     ]
    }
   ],
   "source": [
    "%%bash\n",
    "git clone https://github.com/dwalton76/rubiks-cube-NxNxN-solver.git\n",
    "cd rubiks-cube-NxNxN-solver\n",
    "make init"
   ]
  },
  {
   "cell_type": "code",
   "execution_count": 3,
   "metadata": {},
   "outputs": [
    {
     "name": "stderr",
     "output_type": "stream",
     "text": [
      "fatal: destination path 'kociemba' already exists and is not an empty directory.\n"
     ]
    },
    {
     "name": "stdout",
     "output_type": "stream",
     "text": [
      "mkdir -p bin\n",
      "gcc -std=c99 -O3 -D_XOPEN_SOURCE=700 coordcube.c cubiecube.c facecube.c search.c -Iinclude solve.c -o bin/kociemba\n",
      "cp bin/kociemba /usr/local/bin/\n"
     ]
    },
    {
     "name": "stderr",
     "output_type": "stream",
     "text": [
      "cp: cannot create regular file '/usr/local/bin/kociemba': Permission denied\n",
      "make: *** [Makefile:16: install] Error 1\n"
     ]
    },
    {
     "ename": "CalledProcessError",
     "evalue": "Command 'b'cd ..\\ngit clone https://github.com/dwalton76/kociemba.git\\ncd kociemba/kociemba/ckociemba/\\nmake\\nmake install\\n'' returned non-zero exit status 2.",
     "output_type": "error",
     "traceback": [
      "\u001b[0;31m---------------------------------------------------------------------------\u001b[0m",
      "\u001b[0;31mCalledProcessError\u001b[0m                        Traceback (most recent call last)",
      "Cell \u001b[0;32mIn [3], line 1\u001b[0m\n\u001b[0;32m----> 1\u001b[0m \u001b[43mget_ipython\u001b[49m\u001b[43m(\u001b[49m\u001b[43m)\u001b[49m\u001b[38;5;241;43m.\u001b[39;49m\u001b[43mrun_cell_magic\u001b[49m\u001b[43m(\u001b[49m\u001b[38;5;124;43m'\u001b[39;49m\u001b[38;5;124;43mbash\u001b[39;49m\u001b[38;5;124;43m'\u001b[39;49m\u001b[43m,\u001b[49m\u001b[43m \u001b[49m\u001b[38;5;124;43m'\u001b[39;49m\u001b[38;5;124;43m'\u001b[39;49m\u001b[43m,\u001b[49m\u001b[43m \u001b[49m\u001b[38;5;124;43m'\u001b[39;49m\u001b[38;5;124;43mcd ..\u001b[39;49m\u001b[38;5;130;43;01m\\n\u001b[39;49;00m\u001b[38;5;124;43mgit clone https://github.com/dwalton76/kociemba.git\u001b[39;49m\u001b[38;5;130;43;01m\\n\u001b[39;49;00m\u001b[38;5;124;43mcd kociemba/kociemba/ckociemba/\u001b[39;49m\u001b[38;5;130;43;01m\\n\u001b[39;49;00m\u001b[38;5;124;43mmake\u001b[39;49m\u001b[38;5;130;43;01m\\n\u001b[39;49;00m\u001b[38;5;124;43mmake install\u001b[39;49m\u001b[38;5;130;43;01m\\n\u001b[39;49;00m\u001b[38;5;124;43m'\u001b[39;49m\u001b[43m)\u001b[49m\n",
      "File \u001b[0;32m/usr/lib/python3/dist-packages/IPython/core/interactiveshell.py:2362\u001b[0m, in \u001b[0;36mInteractiveShell.run_cell_magic\u001b[0;34m(self, magic_name, line, cell)\u001b[0m\n\u001b[1;32m   2360\u001b[0m \u001b[38;5;28;01mwith\u001b[39;00m \u001b[38;5;28mself\u001b[39m\u001b[38;5;241m.\u001b[39mbuiltin_trap:\n\u001b[1;32m   2361\u001b[0m     args \u001b[38;5;241m=\u001b[39m (magic_arg_s, cell)\n\u001b[0;32m-> 2362\u001b[0m     result \u001b[38;5;241m=\u001b[39m \u001b[43mfn\u001b[49m\u001b[43m(\u001b[49m\u001b[38;5;241;43m*\u001b[39;49m\u001b[43margs\u001b[49m\u001b[43m,\u001b[49m\u001b[43m \u001b[49m\u001b[38;5;241;43m*\u001b[39;49m\u001b[38;5;241;43m*\u001b[39;49m\u001b[43mkwargs\u001b[49m\u001b[43m)\u001b[49m\n\u001b[1;32m   2363\u001b[0m \u001b[38;5;28;01mreturn\u001b[39;00m result\n",
      "File \u001b[0;32m/usr/lib/python3/dist-packages/IPython/core/magics/script.py:153\u001b[0m, in \u001b[0;36mScriptMagics._make_script_magic.<locals>.named_script_magic\u001b[0;34m(line, cell)\u001b[0m\n\u001b[1;32m    151\u001b[0m \u001b[38;5;28;01melse\u001b[39;00m:\n\u001b[1;32m    152\u001b[0m     line \u001b[38;5;241m=\u001b[39m script\n\u001b[0;32m--> 153\u001b[0m \u001b[38;5;28;01mreturn\u001b[39;00m \u001b[38;5;28;43mself\u001b[39;49m\u001b[38;5;241;43m.\u001b[39;49m\u001b[43mshebang\u001b[49m\u001b[43m(\u001b[49m\u001b[43mline\u001b[49m\u001b[43m,\u001b[49m\u001b[43m \u001b[49m\u001b[43mcell\u001b[49m\u001b[43m)\u001b[49m\n",
      "File \u001b[0;32m/usr/lib/python3/dist-packages/IPython/core/magics/script.py:305\u001b[0m, in \u001b[0;36mScriptMagics.shebang\u001b[0;34m(self, line, cell)\u001b[0m\n\u001b[1;32m    300\u001b[0m \u001b[38;5;28;01mif\u001b[39;00m args\u001b[38;5;241m.\u001b[39mraise_error \u001b[38;5;129;01mand\u001b[39;00m p\u001b[38;5;241m.\u001b[39mreturncode \u001b[38;5;241m!=\u001b[39m \u001b[38;5;241m0\u001b[39m:\n\u001b[1;32m    301\u001b[0m     \u001b[38;5;66;03m# If we get here and p.returncode is still None, we must have\u001b[39;00m\n\u001b[1;32m    302\u001b[0m     \u001b[38;5;66;03m# killed it but not yet seen its return code. We don't wait for it,\u001b[39;00m\n\u001b[1;32m    303\u001b[0m     \u001b[38;5;66;03m# in case it's stuck in uninterruptible sleep. -9 = SIGKILL\u001b[39;00m\n\u001b[1;32m    304\u001b[0m     rc \u001b[38;5;241m=\u001b[39m p\u001b[38;5;241m.\u001b[39mreturncode \u001b[38;5;129;01mor\u001b[39;00m \u001b[38;5;241m-\u001b[39m\u001b[38;5;241m9\u001b[39m\n\u001b[0;32m--> 305\u001b[0m     \u001b[38;5;28;01mraise\u001b[39;00m CalledProcessError(rc, cell)\n",
      "\u001b[0;31mCalledProcessError\u001b[0m: Command 'b'cd ..\\ngit clone https://github.com/dwalton76/kociemba.git\\ncd kociemba/kociemba/ckociemba/\\nmake\\nmake install\\n'' returned non-zero exit status 2."
     ]
    }
   ],
   "source": [
    "%%bash\n",
    "cd ..\n",
    "git clone https://github.com/dwalton76/kociemba.git\n",
    "cd kociemba/kociemba/ckociemba/\n",
    "make\n",
    "make install"
   ]
  },
  {
   "cell_type": "code",
   "execution_count": 4,
   "metadata": {},
   "outputs": [
    {
     "name": "stdout",
     "output_type": "stream",
     "text": [
      "Current Working Directory:  /home/borys/santa-2023/dwalton76/rubiks-cube-NxNxN-solver\n"
     ]
    }
   ],
   "source": [
    "from tqdm import tqdm\n",
    "import pandas as pd\n",
    "import numpy as np\n",
    "import os\n",
    "\n",
    "os.chdir('rubiks-cube-NxNxN-solver')\n",
    "print(\"Current Working Directory: \", os.getcwd())"
   ]
  },
  {
   "cell_type": "code",
   "execution_count": 5,
   "metadata": {},
   "outputs": [],
   "source": [
    "U = ['U', 'F', 'R', 'B', 'L', 'D']\n",
    "U_dict = {\n",
    "    'A': 'U',\n",
    "    'B': 'F',\n",
    "    'C': 'R',\n",
    "    'D': 'B',\n",
    "    'E': 'L',\n",
    "    'F': 'D',\n",
    "}\n",
    "def state2ubl(state):\n",
    "    state_split = state.split(';')\n",
    "    dim = int(np.sqrt(len(state_split) // 6))\n",
    "    dim_2 = dim**2\n",
    "    \n",
    "    s = ''.join([U_dict[f] for f in state_split])\n",
    "    \n",
    "    return s[:dim_2] + s[2*dim_2:3*dim_2] + s[dim_2:2*dim_2] + s[5*dim_2:] + s[4*dim_2:5*dim_2] + s[3*dim_2:4*dim_2]\n",
    "\n",
    "def move_translation(dim):\n",
    "    M = {}\n",
    "    M[\"U\"] = f'-d{dim-1}'\n",
    "    M[\"R\"] = \"r0\"\n",
    "    M[\"B\"] = f\"-f{dim-1}\"\n",
    "    M[\"F\"] = \"f0\"\n",
    "    M[\"L\"] = f\"-r{dim-1}\"\n",
    "    M[\"D\"] = \"d0\"\n",
    "\n",
    "    if dim > 3:\n",
    "        M[\"Uw\"] = f'-d{dim-2}.-d{dim-1}'\n",
    "        M[\"Rw\"] = f\"r0.r1\"\n",
    "        M[\"Bw\"] = f'-f{dim-2}.-f{dim-1}'\n",
    "        M[\"Fw\"] = f\"f0.f1\"\n",
    "        M[\"Lw\"] = f'-r{dim-2}.-r{dim-1}'\n",
    "        M[\"Dw\"] = f\"d0.d1\"\n",
    "        \n",
    "    if dim >= 6:\n",
    "        M[\"2Uw\"] = f'-d{dim-2}.-d{dim-1}'\n",
    "        M[\"2Rw\"] = f\"r0.r1\"\n",
    "        M[\"2Bw\"] = f'-f{dim-2}.-f{dim-1}'\n",
    "        M[\"2Fw\"] = f\"f0.f1\"\n",
    "        M[\"2Lw\"] = f'-r{dim-2}.-r{dim-1}'\n",
    "        M[\"2Dw\"] = f\"d0.d1\"\n",
    "\n",
    "        width_max = dim // 2\n",
    "        for i in range(3, width_max + 1):\n",
    "            M[f\"{i}Uw\"] = f'-d{dim-i}.' + M[f\"{i-1}Uw\"]\n",
    "            M[f\"{i}Rw\"] = M[f\"{i-1}Rw\"] + f'.r{i-1}'\n",
    "            M[f\"{i}Bw\"] = f'-f{dim-i}.' + M[f\"{i-1}Bw\"]\n",
    "            M[f\"{i}Fw\"] = M[f\"{i-1}Fw\"] + f'.f{i-1}'\n",
    "            M[f\"{i}Lw\"] = f'-r{dim-i}.' + M[f\"{i-1}Lw\"]\n",
    "            M[f\"{i}Dw\"] = M[f\"{i-1}Dw\"] + f'.d{i-1}'\n",
    "\n",
    "\n",
    "    for m in list(M):\n",
    "        M[m+\"2\"] = M[m] + '.' + M[m]\n",
    "        if \"-\" in M[m]:\n",
    "            M[m+\"'\"] = M[m].replace(\"-\",\"\")\n",
    "        else:\n",
    "            M[m+\"'\"] = '.'.join([\"-\"+i for i in M[m].split('.')])\n",
    "    \n",
    "    return M\n",
    "\n"
   ]
  },
  {
   "cell_type": "code",
   "execution_count": 19,
   "metadata": {},
   "outputs": [],
   "source": [
    "p = '/home/borys/santa-2023/data/'\n",
    "puzzles = pd.read_csv(p + 'puzzles_ab.csv', index_col='id')\n",
    "puzzle_info = pd.read_csv(p + 'puzzle_info.csv', index_col='puzzle_type')\n",
    "submission = pd.read_csv(p + 'sample_submission.csv', index_col='id')"
   ]
  },
  {
   "cell_type": "code",
   "execution_count": 20,
   "metadata": {},
   "outputs": [
    {
     "name": "stdout",
     "output_type": "stream",
     "text": [
      "Starting 130\n",
      "solved id: 130\n",
      "Starting 131\n",
      "solved id: 131\n",
      "Starting 132\n",
      "solved id: 132\n",
      "Starting 133\n",
      "solved id: 133\n",
      "Starting 134\n",
      "solved id: 134\n",
      "Starting 135\n",
      "solved id: 135\n",
      "Starting 136\n",
      "solved id: 136\n",
      "Starting 137\n",
      "solved id: 137\n",
      "Starting 138\n",
      "solved id: 138\n",
      "Starting 139\n",
      "solved id: 139\n",
      "Starting 235\n",
      "solved id: 235\n",
      "Starting 236\n",
      "solved id: 236\n",
      "Starting 237\n",
      "solved id: 237\n",
      "Starting 238\n",
      "solved id: 238\n",
      "Starting 239\n",
      "solved id: 239\n",
      "Starting 282\n",
      "solved id: 282\n"
     ]
    }
   ],
   "source": [
    "outputs = {}\n",
    "for id, row in puzzles.iterrows():\n",
    "    if row['puzzle_type'][:4] == 'cube':\n",
    "        \n",
    "        dim = int(row['puzzle_type'].split('/')[-1])\n",
    "        if id not in range(30, 284):\n",
    "            continue\n",
    "        moves = eval(puzzle_info.loc[row['puzzle_type'], 'allowed_moves'])\n",
    "        for move in list(moves):\n",
    "            moves['-'+move] = np.argsort(moves[move]).tolist()\n",
    "        \n",
    "        M = move_translation(dim)\n",
    "\n",
    "        init_state = row['initial_state']\n",
    "        sol_state = row['solution_state']\n",
    "\n",
    "        # Only attempt to solve cubes with traditional solutions. \n",
    "        # That is, cubes that have a solution state where each face \n",
    "        # filled with equivilent letters/colors.\n",
    "        if True:\n",
    "            state = state2ubl(init_state)\n",
    "            print(f'Starting {id}')\n",
    "            output = !/home/borys/santa-2023/dwalton76/rubiks-cube-NxNxN-solver/rubiks-cube-solver.py --state $state\n",
    "            outputs[id] = output\n",
    "            if output[-1][:9] == 'Solution:':\n",
    "                sol = output[-1].split(': ')[1]\n",
    "            else:\n",
    "                for n in range(1, 21):\n",
    "                    if 'Solution:' in output[-n]:\n",
    "                        sol = output[-n].split('Solution: ')[1].split('2023-')[0]\n",
    "                        break\n",
    "                \n",
    "            mmoves = '.'.join([M[m] for m in sol.split(' ')])\n",
    "            \n",
    "            new_state = init_state\n",
    "            for move in mmoves.split('.'):\n",
    "                new_state = ';'.join(list(np.asarray(new_state.split(';'))[np.array(moves[move])]))\n",
    "            \n",
    "            I = ['.'.join([f'{j}{i}' for i in range(dim)]) for j in ['r', 'd', 'f']]\n",
    "            manipulations = [''] + I + [i1 + '.' + i2 for i1 in I for i2 in I]+ [i1 + '.' + i2+ '.' + i3 for i1 in I for\n",
    "                                                                              i2 in I for i3 in I]+ [i1 + '.' + i2+ '.' + i3 + '.' + i4 for i1 in I for i2 in I for i3 in I for i4 in I]\n",
    "            for init_moves in manipulations:\n",
    "                temp_state = new_state\n",
    "                if len(init_moves) > 0:\n",
    "                    for move in init_moves.split('.'):\n",
    "                        temp_state = ';'.join(list(np.asarray(temp_state.split(';'))[np.array(moves[move])]))\n",
    "                if temp_state == sol_state:\n",
    "                    print(f'solved id: {id}')\n",
    "                    if len(init_moves) > 0:\n",
    "                        mmoves += '.' + init_moves\n",
    "                    break\n",
    "                    \n",
    "            # validation\n",
    "            state = row['initial_state'].split(\";\")\n",
    "            for move_name in mmoves.split('.'):\n",
    "                state = [state[i] for i in moves[move_name]]\n",
    "\n",
    "            try:\n",
    "                \n",
    "                assert row['solution_state'].split(\";\") == state\n",
    "                \n",
    "                mmoves_length = len(mmoves.split('.'))\n",
    "                best_moves_length = len(submission.loc[id, 'moves'].split('.')) \n",
    "                \n",
    "                if mmoves_length < best_moves_length:\n",
    "                    # Insert the moves into the database\n",
    "                    submission.loc[id, 'moves'] = mmoves\n",
    "            except AssertionError:\n",
    "                print(f\"assertion error for {id}\")\n",
    "                print(row['solution_state'])\n",
    "                print(';'.join(state))\n",
    "                break"
   ]
  },
  {
   "cell_type": "code",
   "execution_count": 17,
   "metadata": {},
   "outputs": [
    {
     "name": "stdout",
     "output_type": "stream",
     "text": [
      "Score: 1151262\n"
     ]
    }
   ],
   "source": [
    "print(f\"Score: {submission['moves'].str.split('.').apply(lambda x: len(x)).sum()}\")"
   ]
  },
  {
   "cell_type": "code",
   "execution_count": 18,
   "metadata": {},
   "outputs": [],
   "source": [
    "submission.reset_index().to_csv('../sub_ab.csv', index=False)"
   ]
  }
 ],
 "metadata": {
  "kernelspec": {
   "display_name": "Python 3",
   "language": "python",
   "name": "python3"
  },
  "language_info": {
   "codemirror_mode": {
    "name": "ipython",
    "version": 3
   },
   "file_extension": ".py",
   "mimetype": "text/x-python",
   "name": "python",
   "nbconvert_exporter": "python",
   "pygments_lexer": "ipython3",
   "version": "3.11.4"
  }
 },
 "nbformat": 4,
 "nbformat_minor": 2
}
